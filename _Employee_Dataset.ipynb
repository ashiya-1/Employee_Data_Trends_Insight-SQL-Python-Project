{
 "cells": [
  {
   "cell_type": "code",
   "execution_count": 1,
   "id": "640872e2",
   "metadata": {},
   "outputs": [],
   "source": [
    "import psycopg2 \n",
    "import pandas as pd\n",
    "import numpy as np\n",
    "import matplotlib.pyplot as plt\n",
    "import seaborn as sns\n",
    "from matplotlib import style\n"
   ]
  },
  {
   "cell_type": "code",
   "execution_count": 2,
   "id": "b1d3c313",
   "metadata": {},
   "outputs": [],
   "source": [
    "def connect_to_db():\n",
    "    connection=psycopg2.connect(user='postgres',password='2559',host='localhost',port=5432,database='employee_db')\n",
    "    return connection\n",
    "connection=connect_to_db()"
   ]
  },
  {
   "cell_type": "markdown",
   "id": "aac5a489",
   "metadata": {},
   "source": [
    "# Check for data inconsistency"
   ]
  },
  {
   "cell_type": "markdown",
   "id": "03f4bbf5",
   "metadata": {},
   "source": [
    "## Department  Dataframe"
   ]
  },
  {
   "cell_type": "code",
   "execution_count": 3,
   "id": "94c5160e",
   "metadata": {},
   "outputs": [
    {
     "name": "stderr",
     "output_type": "stream",
     "text": [
      "C:\\Users\\Admin\\anaconda3\\lib\\site-packages\\pandas\\io\\sql.py:762: UserWarning: pandas only support SQLAlchemy connectable(engine/connection) ordatabase string URI or sqlite3 DBAPI2 connectionother DBAPI2 objects are not tested, please consider using SQLAlchemy\n",
      "  warnings.warn(\n"
     ]
    }
   ],
   "source": [
    "Department=pd.read_sql_query(\"\"\"select * from employees.department\"\"\",connection)"
   ]
  },
  {
   "cell_type": "code",
   "execution_count": 4,
   "id": "89deb3ae",
   "metadata": {},
   "outputs": [
    {
     "data": {
      "text/html": [
       "<div>\n",
       "<style scoped>\n",
       "    .dataframe tbody tr th:only-of-type {\n",
       "        vertical-align: middle;\n",
       "    }\n",
       "\n",
       "    .dataframe tbody tr th {\n",
       "        vertical-align: top;\n",
       "    }\n",
       "\n",
       "    .dataframe thead th {\n",
       "        text-align: right;\n",
       "    }\n",
       "</style>\n",
       "<table border=\"1\" class=\"dataframe\">\n",
       "  <thead>\n",
       "    <tr style=\"text-align: right;\">\n",
       "      <th></th>\n",
       "      <th>id</th>\n",
       "      <th>dept_name</th>\n",
       "    </tr>\n",
       "  </thead>\n",
       "  <tbody>\n",
       "    <tr>\n",
       "      <th>0</th>\n",
       "      <td>d001</td>\n",
       "      <td>Marketing</td>\n",
       "    </tr>\n",
       "    <tr>\n",
       "      <th>1</th>\n",
       "      <td>d002</td>\n",
       "      <td>Finance</td>\n",
       "    </tr>\n",
       "    <tr>\n",
       "      <th>2</th>\n",
       "      <td>d003</td>\n",
       "      <td>Human Resources</td>\n",
       "    </tr>\n",
       "    <tr>\n",
       "      <th>3</th>\n",
       "      <td>d004</td>\n",
       "      <td>Production</td>\n",
       "    </tr>\n",
       "    <tr>\n",
       "      <th>4</th>\n",
       "      <td>d005</td>\n",
       "      <td>Development</td>\n",
       "    </tr>\n",
       "    <tr>\n",
       "      <th>5</th>\n",
       "      <td>d006</td>\n",
       "      <td>Quality Management</td>\n",
       "    </tr>\n",
       "    <tr>\n",
       "      <th>6</th>\n",
       "      <td>d007</td>\n",
       "      <td>Sales</td>\n",
       "    </tr>\n",
       "    <tr>\n",
       "      <th>7</th>\n",
       "      <td>d008</td>\n",
       "      <td>Research</td>\n",
       "    </tr>\n",
       "    <tr>\n",
       "      <th>8</th>\n",
       "      <td>d009</td>\n",
       "      <td>Customer Service</td>\n",
       "    </tr>\n",
       "  </tbody>\n",
       "</table>\n",
       "</div>"
      ],
      "text/plain": [
       "     id           dept_name\n",
       "0  d001           Marketing\n",
       "1  d002             Finance\n",
       "2  d003     Human Resources\n",
       "3  d004          Production\n",
       "4  d005         Development\n",
       "5  d006  Quality Management\n",
       "6  d007               Sales\n",
       "7  d008            Research\n",
       "8  d009    Customer Service"
      ]
     },
     "execution_count": 4,
     "metadata": {},
     "output_type": "execute_result"
    }
   ],
   "source": [
    "Department"
   ]
  },
  {
   "cell_type": "code",
   "execution_count": 5,
   "id": "aa7fa1b7",
   "metadata": {},
   "outputs": [
    {
     "data": {
      "text/plain": [
       "(9, 2)"
      ]
     },
     "execution_count": 5,
     "metadata": {},
     "output_type": "execute_result"
    }
   ],
   "source": [
    "Department.shape"
   ]
  },
  {
   "cell_type": "code",
   "execution_count": 6,
   "id": "5d44edac",
   "metadata": {},
   "outputs": [
    {
     "data": {
      "text/plain": [
       "18"
      ]
     },
     "execution_count": 6,
     "metadata": {},
     "output_type": "execute_result"
    }
   ],
   "source": [
    "Department.size"
   ]
  },
  {
   "cell_type": "code",
   "execution_count": 7,
   "id": "8aa49de4",
   "metadata": {},
   "outputs": [
    {
     "name": "stdout",
     "output_type": "stream",
     "text": [
      "<class 'pandas.core.frame.DataFrame'>\n",
      "RangeIndex: 9 entries, 0 to 8\n",
      "Data columns (total 2 columns):\n",
      " #   Column     Non-Null Count  Dtype \n",
      "---  ------     --------------  ----- \n",
      " 0   id         9 non-null      object\n",
      " 1   dept_name  9 non-null      object\n",
      "dtypes: object(2)\n",
      "memory usage: 272.0+ bytes\n"
     ]
    }
   ],
   "source": [
    "Department.info()"
   ]
  },
  {
   "cell_type": "code",
   "execution_count": 8,
   "id": "f99c75b2",
   "metadata": {},
   "outputs": [
    {
     "data": {
      "text/plain": [
       "0    False\n",
       "1    False\n",
       "2    False\n",
       "3    False\n",
       "4    False\n",
       "5    False\n",
       "6    False\n",
       "7    False\n",
       "8    False\n",
       "dtype: bool"
      ]
     },
     "execution_count": 8,
     "metadata": {},
     "output_type": "execute_result"
    }
   ],
   "source": [
    "Department.duplicated()"
   ]
  },
  {
   "cell_type": "code",
   "execution_count": 9,
   "id": "8f2e0c90",
   "metadata": {},
   "outputs": [
    {
     "data": {
      "text/plain": [
       "Index(['id', 'dept_name'], dtype='object')"
      ]
     },
     "execution_count": 9,
     "metadata": {},
     "output_type": "execute_result"
    }
   ],
   "source": [
    "Department.columns"
   ]
  },
  {
   "cell_type": "code",
   "execution_count": 10,
   "id": "bbc85aeb",
   "metadata": {},
   "outputs": [
    {
     "data": {
      "text/plain": [
       "<bound method DataFrame.value_counts of      id           dept_name\n",
       "0  d001           Marketing\n",
       "1  d002             Finance\n",
       "2  d003     Human Resources\n",
       "3  d004          Production\n",
       "4  d005         Development\n",
       "5  d006  Quality Management\n",
       "6  d007               Sales\n",
       "7  d008            Research\n",
       "8  d009    Customer Service>"
      ]
     },
     "execution_count": 10,
     "metadata": {},
     "output_type": "execute_result"
    }
   ],
   "source": [
    "Department.value_counts"
   ]
  },
  {
   "cell_type": "markdown",
   "id": "69a7d040",
   "metadata": {},
   "source": [
    "## Department_Employee Dataframe"
   ]
  },
  {
   "cell_type": "code",
   "execution_count": 11,
   "id": "411a6c72",
   "metadata": {},
   "outputs": [
    {
     "name": "stderr",
     "output_type": "stream",
     "text": [
      "C:\\Users\\Admin\\anaconda3\\lib\\site-packages\\pandas\\io\\sql.py:762: UserWarning: pandas only support SQLAlchemy connectable(engine/connection) ordatabase string URI or sqlite3 DBAPI2 connectionother DBAPI2 objects are not tested, please consider using SQLAlchemy\n",
      "  warnings.warn(\n"
     ]
    }
   ],
   "source": [
    "Department_employee=pd.read_sql_query(\"\"\"select * from employees.department_employee\"\"\",connection)"
   ]
  },
  {
   "cell_type": "code",
   "execution_count": 12,
   "id": "d4cb659c",
   "metadata": {},
   "outputs": [
    {
     "data": {
      "text/html": [
       "<div>\n",
       "<style scoped>\n",
       "    .dataframe tbody tr th:only-of-type {\n",
       "        vertical-align: middle;\n",
       "    }\n",
       "\n",
       "    .dataframe tbody tr th {\n",
       "        vertical-align: top;\n",
       "    }\n",
       "\n",
       "    .dataframe thead th {\n",
       "        text-align: right;\n",
       "    }\n",
       "</style>\n",
       "<table border=\"1\" class=\"dataframe\">\n",
       "  <thead>\n",
       "    <tr style=\"text-align: right;\">\n",
       "      <th></th>\n",
       "      <th>employee_id</th>\n",
       "      <th>department_id</th>\n",
       "      <th>from_date</th>\n",
       "      <th>to_date</th>\n",
       "    </tr>\n",
       "  </thead>\n",
       "  <tbody>\n",
       "    <tr>\n",
       "      <th>0</th>\n",
       "      <td>10001</td>\n",
       "      <td>d005</td>\n",
       "      <td>1986-06-26</td>\n",
       "      <td>9999-01-01</td>\n",
       "    </tr>\n",
       "    <tr>\n",
       "      <th>1</th>\n",
       "      <td>10002</td>\n",
       "      <td>d007</td>\n",
       "      <td>1996-08-03</td>\n",
       "      <td>9999-01-01</td>\n",
       "    </tr>\n",
       "    <tr>\n",
       "      <th>2</th>\n",
       "      <td>10003</td>\n",
       "      <td>d004</td>\n",
       "      <td>1995-12-03</td>\n",
       "      <td>9999-01-01</td>\n",
       "    </tr>\n",
       "    <tr>\n",
       "      <th>3</th>\n",
       "      <td>10004</td>\n",
       "      <td>d004</td>\n",
       "      <td>1986-12-01</td>\n",
       "      <td>9999-01-01</td>\n",
       "    </tr>\n",
       "    <tr>\n",
       "      <th>4</th>\n",
       "      <td>10005</td>\n",
       "      <td>d003</td>\n",
       "      <td>1989-09-12</td>\n",
       "      <td>9999-01-01</td>\n",
       "    </tr>\n",
       "    <tr>\n",
       "      <th>...</th>\n",
       "      <td>...</td>\n",
       "      <td>...</td>\n",
       "      <td>...</td>\n",
       "      <td>...</td>\n",
       "    </tr>\n",
       "    <tr>\n",
       "      <th>331598</th>\n",
       "      <td>499995</td>\n",
       "      <td>d004</td>\n",
       "      <td>1997-06-02</td>\n",
       "      <td>9999-01-01</td>\n",
       "    </tr>\n",
       "    <tr>\n",
       "      <th>331599</th>\n",
       "      <td>499996</td>\n",
       "      <td>d004</td>\n",
       "      <td>1996-05-13</td>\n",
       "      <td>9999-01-01</td>\n",
       "    </tr>\n",
       "    <tr>\n",
       "      <th>331600</th>\n",
       "      <td>499997</td>\n",
       "      <td>d005</td>\n",
       "      <td>1987-08-30</td>\n",
       "      <td>9999-01-01</td>\n",
       "    </tr>\n",
       "    <tr>\n",
       "      <th>331601</th>\n",
       "      <td>499998</td>\n",
       "      <td>d002</td>\n",
       "      <td>1993-12-27</td>\n",
       "      <td>9999-01-01</td>\n",
       "    </tr>\n",
       "    <tr>\n",
       "      <th>331602</th>\n",
       "      <td>499999</td>\n",
       "      <td>d004</td>\n",
       "      <td>1997-11-30</td>\n",
       "      <td>9999-01-01</td>\n",
       "    </tr>\n",
       "  </tbody>\n",
       "</table>\n",
       "<p>331603 rows × 4 columns</p>\n",
       "</div>"
      ],
      "text/plain": [
       "        employee_id department_id   from_date     to_date\n",
       "0             10001          d005  1986-06-26  9999-01-01\n",
       "1             10002          d007  1996-08-03  9999-01-01\n",
       "2             10003          d004  1995-12-03  9999-01-01\n",
       "3             10004          d004  1986-12-01  9999-01-01\n",
       "4             10005          d003  1989-09-12  9999-01-01\n",
       "...             ...           ...         ...         ...\n",
       "331598       499995          d004  1997-06-02  9999-01-01\n",
       "331599       499996          d004  1996-05-13  9999-01-01\n",
       "331600       499997          d005  1987-08-30  9999-01-01\n",
       "331601       499998          d002  1993-12-27  9999-01-01\n",
       "331602       499999          d004  1997-11-30  9999-01-01\n",
       "\n",
       "[331603 rows x 4 columns]"
      ]
     },
     "execution_count": 12,
     "metadata": {},
     "output_type": "execute_result"
    }
   ],
   "source": [
    "Department_employee"
   ]
  },
  {
   "cell_type": "code",
   "execution_count": 13,
   "id": "04a7881c",
   "metadata": {},
   "outputs": [
    {
     "data": {
      "text/plain": [
       "1326412"
      ]
     },
     "execution_count": 13,
     "metadata": {},
     "output_type": "execute_result"
    }
   ],
   "source": [
    "Department_employee.size"
   ]
  },
  {
   "cell_type": "code",
   "execution_count": 14,
   "id": "25630e85",
   "metadata": {},
   "outputs": [
    {
     "data": {
      "text/plain": [
       "(331603, 4)"
      ]
     },
     "execution_count": 14,
     "metadata": {},
     "output_type": "execute_result"
    }
   ],
   "source": [
    "Department_employee.shape"
   ]
  },
  {
   "cell_type": "code",
   "execution_count": 15,
   "id": "c698dbc5",
   "metadata": {},
   "outputs": [
    {
     "name": "stdout",
     "output_type": "stream",
     "text": [
      "<class 'pandas.core.frame.DataFrame'>\n",
      "RangeIndex: 331603 entries, 0 to 331602\n",
      "Data columns (total 4 columns):\n",
      " #   Column         Non-Null Count   Dtype \n",
      "---  ------         --------------   ----- \n",
      " 0   employee_id    331603 non-null  int64 \n",
      " 1   department_id  331603 non-null  object\n",
      " 2   from_date      331603 non-null  object\n",
      " 3   to_date        331603 non-null  object\n",
      "dtypes: int64(1), object(3)\n",
      "memory usage: 10.1+ MB\n"
     ]
    }
   ],
   "source": [
    "Department_employee.info()"
   ]
  },
  {
   "cell_type": "code",
   "execution_count": 16,
   "id": "775b783c",
   "metadata": {},
   "outputs": [
    {
     "data": {
      "text/plain": [
       "Index(['employee_id', 'department_id', 'from_date', 'to_date'], dtype='object')"
      ]
     },
     "execution_count": 16,
     "metadata": {},
     "output_type": "execute_result"
    }
   ],
   "source": [
    "Department_employee.columns"
   ]
  },
  {
   "cell_type": "code",
   "execution_count": 17,
   "id": "a3e6ad08",
   "metadata": {},
   "outputs": [
    {
     "data": {
      "text/plain": [
       "<bound method DataFrame.value_counts of         employee_id department_id   from_date     to_date\n",
       "0             10001          d005  1986-06-26  9999-01-01\n",
       "1             10002          d007  1996-08-03  9999-01-01\n",
       "2             10003          d004  1995-12-03  9999-01-01\n",
       "3             10004          d004  1986-12-01  9999-01-01\n",
       "4             10005          d003  1989-09-12  9999-01-01\n",
       "...             ...           ...         ...         ...\n",
       "331598       499995          d004  1997-06-02  9999-01-01\n",
       "331599       499996          d004  1996-05-13  9999-01-01\n",
       "331600       499997          d005  1987-08-30  9999-01-01\n",
       "331601       499998          d002  1993-12-27  9999-01-01\n",
       "331602       499999          d004  1997-11-30  9999-01-01\n",
       "\n",
       "[331603 rows x 4 columns]>"
      ]
     },
     "execution_count": 17,
     "metadata": {},
     "output_type": "execute_result"
    }
   ],
   "source": [
    "Department_employee.value_counts"
   ]
  },
  {
   "cell_type": "code",
   "execution_count": 18,
   "id": "c8860e06",
   "metadata": {},
   "outputs": [
    {
     "data": {
      "text/plain": [
       "0         False\n",
       "1         False\n",
       "2         False\n",
       "3         False\n",
       "4         False\n",
       "          ...  \n",
       "331598    False\n",
       "331599    False\n",
       "331600    False\n",
       "331601    False\n",
       "331602    False\n",
       "Length: 331603, dtype: bool"
      ]
     },
     "execution_count": 18,
     "metadata": {},
     "output_type": "execute_result"
    }
   ],
   "source": [
    "Department_employee.duplicated()"
   ]
  },
  {
   "cell_type": "markdown",
   "id": "d549b939",
   "metadata": {},
   "source": [
    "## Department_Manager Dataframe"
   ]
  },
  {
   "cell_type": "code",
   "execution_count": 19,
   "id": "e272b223",
   "metadata": {},
   "outputs": [
    {
     "name": "stderr",
     "output_type": "stream",
     "text": [
      "C:\\Users\\Admin\\anaconda3\\lib\\site-packages\\pandas\\io\\sql.py:762: UserWarning: pandas only support SQLAlchemy connectable(engine/connection) ordatabase string URI or sqlite3 DBAPI2 connectionother DBAPI2 objects are not tested, please consider using SQLAlchemy\n",
      "  warnings.warn(\n"
     ]
    }
   ],
   "source": [
    "Department_manager=pd.read_sql_query(\"\"\"select * from employees.department_manager\"\"\",connection)"
   ]
  },
  {
   "cell_type": "code",
   "execution_count": 20,
   "id": "a3884dd6",
   "metadata": {},
   "outputs": [
    {
     "data": {
      "text/html": [
       "<div>\n",
       "<style scoped>\n",
       "    .dataframe tbody tr th:only-of-type {\n",
       "        vertical-align: middle;\n",
       "    }\n",
       "\n",
       "    .dataframe tbody tr th {\n",
       "        vertical-align: top;\n",
       "    }\n",
       "\n",
       "    .dataframe thead th {\n",
       "        text-align: right;\n",
       "    }\n",
       "</style>\n",
       "<table border=\"1\" class=\"dataframe\">\n",
       "  <thead>\n",
       "    <tr style=\"text-align: right;\">\n",
       "      <th></th>\n",
       "      <th>employee_id</th>\n",
       "      <th>department_id</th>\n",
       "      <th>from_date</th>\n",
       "      <th>to_date</th>\n",
       "    </tr>\n",
       "  </thead>\n",
       "  <tbody>\n",
       "    <tr>\n",
       "      <th>0</th>\n",
       "      <td>110022</td>\n",
       "      <td>d001</td>\n",
       "      <td>1985-01-01</td>\n",
       "      <td>1991-10-01</td>\n",
       "    </tr>\n",
       "    <tr>\n",
       "      <th>1</th>\n",
       "      <td>110039</td>\n",
       "      <td>d001</td>\n",
       "      <td>1991-10-01</td>\n",
       "      <td>9999-01-01</td>\n",
       "    </tr>\n",
       "    <tr>\n",
       "      <th>2</th>\n",
       "      <td>110085</td>\n",
       "      <td>d002</td>\n",
       "      <td>1985-01-01</td>\n",
       "      <td>1989-12-17</td>\n",
       "    </tr>\n",
       "    <tr>\n",
       "      <th>3</th>\n",
       "      <td>110114</td>\n",
       "      <td>d002</td>\n",
       "      <td>1989-12-17</td>\n",
       "      <td>9999-01-01</td>\n",
       "    </tr>\n",
       "    <tr>\n",
       "      <th>4</th>\n",
       "      <td>110183</td>\n",
       "      <td>d003</td>\n",
       "      <td>1985-01-01</td>\n",
       "      <td>1992-03-21</td>\n",
       "    </tr>\n",
       "    <tr>\n",
       "      <th>5</th>\n",
       "      <td>110228</td>\n",
       "      <td>d003</td>\n",
       "      <td>1992-03-21</td>\n",
       "      <td>9999-01-01</td>\n",
       "    </tr>\n",
       "    <tr>\n",
       "      <th>6</th>\n",
       "      <td>110303</td>\n",
       "      <td>d004</td>\n",
       "      <td>1985-01-01</td>\n",
       "      <td>1988-09-09</td>\n",
       "    </tr>\n",
       "    <tr>\n",
       "      <th>7</th>\n",
       "      <td>110344</td>\n",
       "      <td>d004</td>\n",
       "      <td>1988-09-09</td>\n",
       "      <td>1992-08-02</td>\n",
       "    </tr>\n",
       "    <tr>\n",
       "      <th>8</th>\n",
       "      <td>110386</td>\n",
       "      <td>d004</td>\n",
       "      <td>1992-08-02</td>\n",
       "      <td>1996-08-30</td>\n",
       "    </tr>\n",
       "    <tr>\n",
       "      <th>9</th>\n",
       "      <td>110420</td>\n",
       "      <td>d004</td>\n",
       "      <td>1996-08-30</td>\n",
       "      <td>9999-01-01</td>\n",
       "    </tr>\n",
       "    <tr>\n",
       "      <th>10</th>\n",
       "      <td>110511</td>\n",
       "      <td>d005</td>\n",
       "      <td>1985-01-01</td>\n",
       "      <td>1992-04-25</td>\n",
       "    </tr>\n",
       "    <tr>\n",
       "      <th>11</th>\n",
       "      <td>110567</td>\n",
       "      <td>d005</td>\n",
       "      <td>1992-04-25</td>\n",
       "      <td>9999-01-01</td>\n",
       "    </tr>\n",
       "    <tr>\n",
       "      <th>12</th>\n",
       "      <td>110725</td>\n",
       "      <td>d006</td>\n",
       "      <td>1985-01-01</td>\n",
       "      <td>1989-05-06</td>\n",
       "    </tr>\n",
       "    <tr>\n",
       "      <th>13</th>\n",
       "      <td>110765</td>\n",
       "      <td>d006</td>\n",
       "      <td>1989-05-06</td>\n",
       "      <td>1991-09-12</td>\n",
       "    </tr>\n",
       "    <tr>\n",
       "      <th>14</th>\n",
       "      <td>110800</td>\n",
       "      <td>d006</td>\n",
       "      <td>1991-09-12</td>\n",
       "      <td>1994-06-28</td>\n",
       "    </tr>\n",
       "    <tr>\n",
       "      <th>15</th>\n",
       "      <td>110854</td>\n",
       "      <td>d006</td>\n",
       "      <td>1994-06-28</td>\n",
       "      <td>9999-01-01</td>\n",
       "    </tr>\n",
       "    <tr>\n",
       "      <th>16</th>\n",
       "      <td>111035</td>\n",
       "      <td>d007</td>\n",
       "      <td>1985-01-01</td>\n",
       "      <td>1991-03-07</td>\n",
       "    </tr>\n",
       "    <tr>\n",
       "      <th>17</th>\n",
       "      <td>111133</td>\n",
       "      <td>d007</td>\n",
       "      <td>1991-03-07</td>\n",
       "      <td>9999-01-01</td>\n",
       "    </tr>\n",
       "    <tr>\n",
       "      <th>18</th>\n",
       "      <td>111400</td>\n",
       "      <td>d008</td>\n",
       "      <td>1985-01-01</td>\n",
       "      <td>1991-04-08</td>\n",
       "    </tr>\n",
       "    <tr>\n",
       "      <th>19</th>\n",
       "      <td>111534</td>\n",
       "      <td>d008</td>\n",
       "      <td>1991-04-08</td>\n",
       "      <td>9999-01-01</td>\n",
       "    </tr>\n",
       "    <tr>\n",
       "      <th>20</th>\n",
       "      <td>111692</td>\n",
       "      <td>d009</td>\n",
       "      <td>1985-01-01</td>\n",
       "      <td>1988-10-17</td>\n",
       "    </tr>\n",
       "    <tr>\n",
       "      <th>21</th>\n",
       "      <td>111784</td>\n",
       "      <td>d009</td>\n",
       "      <td>1988-10-17</td>\n",
       "      <td>1992-09-08</td>\n",
       "    </tr>\n",
       "    <tr>\n",
       "      <th>22</th>\n",
       "      <td>111877</td>\n",
       "      <td>d009</td>\n",
       "      <td>1992-09-08</td>\n",
       "      <td>1996-01-03</td>\n",
       "    </tr>\n",
       "    <tr>\n",
       "      <th>23</th>\n",
       "      <td>111939</td>\n",
       "      <td>d009</td>\n",
       "      <td>1996-01-03</td>\n",
       "      <td>9999-01-01</td>\n",
       "    </tr>\n",
       "  </tbody>\n",
       "</table>\n",
       "</div>"
      ],
      "text/plain": [
       "    employee_id department_id   from_date     to_date\n",
       "0        110022          d001  1985-01-01  1991-10-01\n",
       "1        110039          d001  1991-10-01  9999-01-01\n",
       "2        110085          d002  1985-01-01  1989-12-17\n",
       "3        110114          d002  1989-12-17  9999-01-01\n",
       "4        110183          d003  1985-01-01  1992-03-21\n",
       "5        110228          d003  1992-03-21  9999-01-01\n",
       "6        110303          d004  1985-01-01  1988-09-09\n",
       "7        110344          d004  1988-09-09  1992-08-02\n",
       "8        110386          d004  1992-08-02  1996-08-30\n",
       "9        110420          d004  1996-08-30  9999-01-01\n",
       "10       110511          d005  1985-01-01  1992-04-25\n",
       "11       110567          d005  1992-04-25  9999-01-01\n",
       "12       110725          d006  1985-01-01  1989-05-06\n",
       "13       110765          d006  1989-05-06  1991-09-12\n",
       "14       110800          d006  1991-09-12  1994-06-28\n",
       "15       110854          d006  1994-06-28  9999-01-01\n",
       "16       111035          d007  1985-01-01  1991-03-07\n",
       "17       111133          d007  1991-03-07  9999-01-01\n",
       "18       111400          d008  1985-01-01  1991-04-08\n",
       "19       111534          d008  1991-04-08  9999-01-01\n",
       "20       111692          d009  1985-01-01  1988-10-17\n",
       "21       111784          d009  1988-10-17  1992-09-08\n",
       "22       111877          d009  1992-09-08  1996-01-03\n",
       "23       111939          d009  1996-01-03  9999-01-01"
      ]
     },
     "execution_count": 20,
     "metadata": {},
     "output_type": "execute_result"
    }
   ],
   "source": [
    "Department_manager"
   ]
  },
  {
   "cell_type": "code",
   "execution_count": 21,
   "id": "eb247dad",
   "metadata": {},
   "outputs": [
    {
     "data": {
      "text/plain": [
       "96"
      ]
     },
     "execution_count": 21,
     "metadata": {},
     "output_type": "execute_result"
    }
   ],
   "source": [
    "Department_manager.size"
   ]
  },
  {
   "cell_type": "code",
   "execution_count": 22,
   "id": "798251db",
   "metadata": {},
   "outputs": [
    {
     "data": {
      "text/plain": [
       "(24, 4)"
      ]
     },
     "execution_count": 22,
     "metadata": {},
     "output_type": "execute_result"
    }
   ],
   "source": [
    "Department_manager.shape"
   ]
  },
  {
   "cell_type": "code",
   "execution_count": 23,
   "id": "0a4ca1ec",
   "metadata": {},
   "outputs": [
    {
     "name": "stdout",
     "output_type": "stream",
     "text": [
      "<class 'pandas.core.frame.DataFrame'>\n",
      "RangeIndex: 24 entries, 0 to 23\n",
      "Data columns (total 4 columns):\n",
      " #   Column         Non-Null Count  Dtype \n",
      "---  ------         --------------  ----- \n",
      " 0   employee_id    24 non-null     int64 \n",
      " 1   department_id  24 non-null     object\n",
      " 2   from_date      24 non-null     object\n",
      " 3   to_date        24 non-null     object\n",
      "dtypes: int64(1), object(3)\n",
      "memory usage: 896.0+ bytes\n"
     ]
    }
   ],
   "source": [
    "Department_manager.info()"
   ]
  },
  {
   "cell_type": "code",
   "execution_count": 24,
   "id": "fd933810",
   "metadata": {},
   "outputs": [
    {
     "data": {
      "text/plain": [
       "Index(['employee_id', 'department_id', 'from_date', 'to_date'], dtype='object')"
      ]
     },
     "execution_count": 24,
     "metadata": {},
     "output_type": "execute_result"
    }
   ],
   "source": [
    "Department_manager.columns"
   ]
  },
  {
   "cell_type": "code",
   "execution_count": 25,
   "id": "5f511db3",
   "metadata": {},
   "outputs": [
    {
     "data": {
      "text/plain": [
       "<bound method DataFrame.value_counts of     employee_id department_id   from_date     to_date\n",
       "0        110022          d001  1985-01-01  1991-10-01\n",
       "1        110039          d001  1991-10-01  9999-01-01\n",
       "2        110085          d002  1985-01-01  1989-12-17\n",
       "3        110114          d002  1989-12-17  9999-01-01\n",
       "4        110183          d003  1985-01-01  1992-03-21\n",
       "5        110228          d003  1992-03-21  9999-01-01\n",
       "6        110303          d004  1985-01-01  1988-09-09\n",
       "7        110344          d004  1988-09-09  1992-08-02\n",
       "8        110386          d004  1992-08-02  1996-08-30\n",
       "9        110420          d004  1996-08-30  9999-01-01\n",
       "10       110511          d005  1985-01-01  1992-04-25\n",
       "11       110567          d005  1992-04-25  9999-01-01\n",
       "12       110725          d006  1985-01-01  1989-05-06\n",
       "13       110765          d006  1989-05-06  1991-09-12\n",
       "14       110800          d006  1991-09-12  1994-06-28\n",
       "15       110854          d006  1994-06-28  9999-01-01\n",
       "16       111035          d007  1985-01-01  1991-03-07\n",
       "17       111133          d007  1991-03-07  9999-01-01\n",
       "18       111400          d008  1985-01-01  1991-04-08\n",
       "19       111534          d008  1991-04-08  9999-01-01\n",
       "20       111692          d009  1985-01-01  1988-10-17\n",
       "21       111784          d009  1988-10-17  1992-09-08\n",
       "22       111877          d009  1992-09-08  1996-01-03\n",
       "23       111939          d009  1996-01-03  9999-01-01>"
      ]
     },
     "execution_count": 25,
     "metadata": {},
     "output_type": "execute_result"
    }
   ],
   "source": [
    "Department_manager.value_counts"
   ]
  },
  {
   "cell_type": "code",
   "execution_count": 26,
   "id": "4dafb796",
   "metadata": {},
   "outputs": [
    {
     "data": {
      "text/plain": [
       "0     False\n",
       "1     False\n",
       "2     False\n",
       "3     False\n",
       "4     False\n",
       "5     False\n",
       "6     False\n",
       "7     False\n",
       "8     False\n",
       "9     False\n",
       "10    False\n",
       "11    False\n",
       "12    False\n",
       "13    False\n",
       "14    False\n",
       "15    False\n",
       "16    False\n",
       "17    False\n",
       "18    False\n",
       "19    False\n",
       "20    False\n",
       "21    False\n",
       "22    False\n",
       "23    False\n",
       "dtype: bool"
      ]
     },
     "execution_count": 26,
     "metadata": {},
     "output_type": "execute_result"
    }
   ],
   "source": [
    "Department_manager.duplicated()"
   ]
  },
  {
   "cell_type": "markdown",
   "id": "ad2e0020",
   "metadata": {},
   "source": [
    "## Employee Dataframe"
   ]
  },
  {
   "cell_type": "code",
   "execution_count": 27,
   "id": "235c6e9f",
   "metadata": {},
   "outputs": [
    {
     "name": "stderr",
     "output_type": "stream",
     "text": [
      "C:\\Users\\Admin\\anaconda3\\lib\\site-packages\\pandas\\io\\sql.py:762: UserWarning: pandas only support SQLAlchemy connectable(engine/connection) ordatabase string URI or sqlite3 DBAPI2 connectionother DBAPI2 objects are not tested, please consider using SQLAlchemy\n",
      "  warnings.warn(\n"
     ]
    }
   ],
   "source": [
    "Employee=pd.read_sql_query(\"\"\"select * from employees.employee\"\"\",connection)"
   ]
  },
  {
   "cell_type": "code",
   "execution_count": 28,
   "id": "df8165b7",
   "metadata": {},
   "outputs": [
    {
     "data": {
      "text/html": [
       "<div>\n",
       "<style scoped>\n",
       "    .dataframe tbody tr th:only-of-type {\n",
       "        vertical-align: middle;\n",
       "    }\n",
       "\n",
       "    .dataframe tbody tr th {\n",
       "        vertical-align: top;\n",
       "    }\n",
       "\n",
       "    .dataframe thead th {\n",
       "        text-align: right;\n",
       "    }\n",
       "</style>\n",
       "<table border=\"1\" class=\"dataframe\">\n",
       "  <thead>\n",
       "    <tr style=\"text-align: right;\">\n",
       "      <th></th>\n",
       "      <th>id</th>\n",
       "      <th>birth_date</th>\n",
       "      <th>first_name</th>\n",
       "      <th>last_name</th>\n",
       "      <th>gender</th>\n",
       "      <th>hire_date</th>\n",
       "    </tr>\n",
       "  </thead>\n",
       "  <tbody>\n",
       "    <tr>\n",
       "      <th>0</th>\n",
       "      <td>10001</td>\n",
       "      <td>1953-09-02</td>\n",
       "      <td>Georgi</td>\n",
       "      <td>Facello</td>\n",
       "      <td>M</td>\n",
       "      <td>1986-06-26</td>\n",
       "    </tr>\n",
       "    <tr>\n",
       "      <th>1</th>\n",
       "      <td>10002</td>\n",
       "      <td>1964-06-02</td>\n",
       "      <td>Bezalel</td>\n",
       "      <td>Simmel</td>\n",
       "      <td>F</td>\n",
       "      <td>1985-11-21</td>\n",
       "    </tr>\n",
       "    <tr>\n",
       "      <th>2</th>\n",
       "      <td>10003</td>\n",
       "      <td>1959-12-03</td>\n",
       "      <td>Parto</td>\n",
       "      <td>Bamford</td>\n",
       "      <td>M</td>\n",
       "      <td>1986-08-28</td>\n",
       "    </tr>\n",
       "    <tr>\n",
       "      <th>3</th>\n",
       "      <td>10004</td>\n",
       "      <td>1954-05-01</td>\n",
       "      <td>Chirstian</td>\n",
       "      <td>Koblick</td>\n",
       "      <td>M</td>\n",
       "      <td>1986-12-01</td>\n",
       "    </tr>\n",
       "    <tr>\n",
       "      <th>4</th>\n",
       "      <td>10005</td>\n",
       "      <td>1955-01-21</td>\n",
       "      <td>Kyoichi</td>\n",
       "      <td>Maliniak</td>\n",
       "      <td>M</td>\n",
       "      <td>1989-09-12</td>\n",
       "    </tr>\n",
       "    <tr>\n",
       "      <th>...</th>\n",
       "      <td>...</td>\n",
       "      <td>...</td>\n",
       "      <td>...</td>\n",
       "      <td>...</td>\n",
       "      <td>...</td>\n",
       "      <td>...</td>\n",
       "    </tr>\n",
       "    <tr>\n",
       "      <th>300019</th>\n",
       "      <td>499995</td>\n",
       "      <td>1958-09-24</td>\n",
       "      <td>Dekang</td>\n",
       "      <td>Lichtner</td>\n",
       "      <td>F</td>\n",
       "      <td>1993-01-12</td>\n",
       "    </tr>\n",
       "    <tr>\n",
       "      <th>300020</th>\n",
       "      <td>499996</td>\n",
       "      <td>1953-03-07</td>\n",
       "      <td>Zito</td>\n",
       "      <td>Baaz</td>\n",
       "      <td>M</td>\n",
       "      <td>1990-09-27</td>\n",
       "    </tr>\n",
       "    <tr>\n",
       "      <th>300021</th>\n",
       "      <td>499997</td>\n",
       "      <td>1961-08-03</td>\n",
       "      <td>Berhard</td>\n",
       "      <td>Lenart</td>\n",
       "      <td>M</td>\n",
       "      <td>1986-04-21</td>\n",
       "    </tr>\n",
       "    <tr>\n",
       "      <th>300022</th>\n",
       "      <td>499998</td>\n",
       "      <td>1956-09-05</td>\n",
       "      <td>Patricia</td>\n",
       "      <td>Breugel</td>\n",
       "      <td>M</td>\n",
       "      <td>1993-10-13</td>\n",
       "    </tr>\n",
       "    <tr>\n",
       "      <th>300023</th>\n",
       "      <td>499999</td>\n",
       "      <td>1958-05-01</td>\n",
       "      <td>Sachin</td>\n",
       "      <td>Tsukuda</td>\n",
       "      <td>M</td>\n",
       "      <td>1997-11-30</td>\n",
       "    </tr>\n",
       "  </tbody>\n",
       "</table>\n",
       "<p>300024 rows × 6 columns</p>\n",
       "</div>"
      ],
      "text/plain": [
       "            id  birth_date first_name last_name gender   hire_date\n",
       "0        10001  1953-09-02     Georgi   Facello      M  1986-06-26\n",
       "1        10002  1964-06-02    Bezalel    Simmel      F  1985-11-21\n",
       "2        10003  1959-12-03      Parto   Bamford      M  1986-08-28\n",
       "3        10004  1954-05-01  Chirstian   Koblick      M  1986-12-01\n",
       "4        10005  1955-01-21    Kyoichi  Maliniak      M  1989-09-12\n",
       "...        ...         ...        ...       ...    ...         ...\n",
       "300019  499995  1958-09-24     Dekang  Lichtner      F  1993-01-12\n",
       "300020  499996  1953-03-07       Zito      Baaz      M  1990-09-27\n",
       "300021  499997  1961-08-03    Berhard    Lenart      M  1986-04-21\n",
       "300022  499998  1956-09-05   Patricia   Breugel      M  1993-10-13\n",
       "300023  499999  1958-05-01     Sachin   Tsukuda      M  1997-11-30\n",
       "\n",
       "[300024 rows x 6 columns]"
      ]
     },
     "execution_count": 28,
     "metadata": {},
     "output_type": "execute_result"
    }
   ],
   "source": [
    "Employee"
   ]
  },
  {
   "cell_type": "code",
   "execution_count": 29,
   "id": "47383a64",
   "metadata": {},
   "outputs": [
    {
     "data": {
      "text/plain": [
       "(300024, 6)"
      ]
     },
     "execution_count": 29,
     "metadata": {},
     "output_type": "execute_result"
    }
   ],
   "source": [
    "Employee.shape"
   ]
  },
  {
   "cell_type": "code",
   "execution_count": 30,
   "id": "e46d3c6d",
   "metadata": {},
   "outputs": [
    {
     "data": {
      "text/plain": [
       "1800144"
      ]
     },
     "execution_count": 30,
     "metadata": {},
     "output_type": "execute_result"
    }
   ],
   "source": [
    "Employee.size"
   ]
  },
  {
   "cell_type": "code",
   "execution_count": 31,
   "id": "cefcc248",
   "metadata": {},
   "outputs": [
    {
     "data": {
      "text/plain": [
       "<bound method DataFrame.info of             id  birth_date first_name last_name gender   hire_date\n",
       "0        10001  1953-09-02     Georgi   Facello      M  1986-06-26\n",
       "1        10002  1964-06-02    Bezalel    Simmel      F  1985-11-21\n",
       "2        10003  1959-12-03      Parto   Bamford      M  1986-08-28\n",
       "3        10004  1954-05-01  Chirstian   Koblick      M  1986-12-01\n",
       "4        10005  1955-01-21    Kyoichi  Maliniak      M  1989-09-12\n",
       "...        ...         ...        ...       ...    ...         ...\n",
       "300019  499995  1958-09-24     Dekang  Lichtner      F  1993-01-12\n",
       "300020  499996  1953-03-07       Zito      Baaz      M  1990-09-27\n",
       "300021  499997  1961-08-03    Berhard    Lenart      M  1986-04-21\n",
       "300022  499998  1956-09-05   Patricia   Breugel      M  1993-10-13\n",
       "300023  499999  1958-05-01     Sachin   Tsukuda      M  1997-11-30\n",
       "\n",
       "[300024 rows x 6 columns]>"
      ]
     },
     "execution_count": 31,
     "metadata": {},
     "output_type": "execute_result"
    }
   ],
   "source": [
    "Employee.info"
   ]
  },
  {
   "cell_type": "code",
   "execution_count": 32,
   "id": "c24c24ac",
   "metadata": {},
   "outputs": [
    {
     "data": {
      "text/plain": [
       "Index(['id', 'birth_date', 'first_name', 'last_name', 'gender', 'hire_date'], dtype='object')"
      ]
     },
     "execution_count": 32,
     "metadata": {},
     "output_type": "execute_result"
    }
   ],
   "source": [
    "Employee.columns"
   ]
  },
  {
   "cell_type": "code",
   "execution_count": 33,
   "id": "4641e2cf",
   "metadata": {},
   "outputs": [
    {
     "data": {
      "text/plain": [
       "<bound method DataFrame.value_counts of             id  birth_date first_name last_name gender   hire_date\n",
       "0        10001  1953-09-02     Georgi   Facello      M  1986-06-26\n",
       "1        10002  1964-06-02    Bezalel    Simmel      F  1985-11-21\n",
       "2        10003  1959-12-03      Parto   Bamford      M  1986-08-28\n",
       "3        10004  1954-05-01  Chirstian   Koblick      M  1986-12-01\n",
       "4        10005  1955-01-21    Kyoichi  Maliniak      M  1989-09-12\n",
       "...        ...         ...        ...       ...    ...         ...\n",
       "300019  499995  1958-09-24     Dekang  Lichtner      F  1993-01-12\n",
       "300020  499996  1953-03-07       Zito      Baaz      M  1990-09-27\n",
       "300021  499997  1961-08-03    Berhard    Lenart      M  1986-04-21\n",
       "300022  499998  1956-09-05   Patricia   Breugel      M  1993-10-13\n",
       "300023  499999  1958-05-01     Sachin   Tsukuda      M  1997-11-30\n",
       "\n",
       "[300024 rows x 6 columns]>"
      ]
     },
     "execution_count": 33,
     "metadata": {},
     "output_type": "execute_result"
    }
   ],
   "source": [
    "Employee.value_counts"
   ]
  },
  {
   "cell_type": "code",
   "execution_count": 34,
   "id": "7247e6aa",
   "metadata": {},
   "outputs": [
    {
     "data": {
      "text/plain": [
       "0         False\n",
       "1         False\n",
       "2         False\n",
       "3         False\n",
       "4         False\n",
       "          ...  \n",
       "300019    False\n",
       "300020    False\n",
       "300021    False\n",
       "300022    False\n",
       "300023    False\n",
       "Length: 300024, dtype: bool"
      ]
     },
     "execution_count": 34,
     "metadata": {},
     "output_type": "execute_result"
    }
   ],
   "source": [
    "Employee.duplicated()"
   ]
  },
  {
   "cell_type": "markdown",
   "id": "a1a6ebef",
   "metadata": {},
   "source": [
    "## Salary Dataframe"
   ]
  },
  {
   "cell_type": "code",
   "execution_count": 35,
   "id": "a65851d0",
   "metadata": {},
   "outputs": [
    {
     "name": "stderr",
     "output_type": "stream",
     "text": [
      "C:\\Users\\Admin\\anaconda3\\lib\\site-packages\\pandas\\io\\sql.py:762: UserWarning: pandas only support SQLAlchemy connectable(engine/connection) ordatabase string URI or sqlite3 DBAPI2 connectionother DBAPI2 objects are not tested, please consider using SQLAlchemy\n",
      "  warnings.warn(\n"
     ]
    }
   ],
   "source": [
    "Salary=pd.read_sql_query(\"\"\"select * from employees.salary\"\"\",connection)"
   ]
  },
  {
   "cell_type": "code",
   "execution_count": 36,
   "id": "0df5e7b1",
   "metadata": {},
   "outputs": [
    {
     "data": {
      "text/html": [
       "<div>\n",
       "<style scoped>\n",
       "    .dataframe tbody tr th:only-of-type {\n",
       "        vertical-align: middle;\n",
       "    }\n",
       "\n",
       "    .dataframe tbody tr th {\n",
       "        vertical-align: top;\n",
       "    }\n",
       "\n",
       "    .dataframe thead th {\n",
       "        text-align: right;\n",
       "    }\n",
       "</style>\n",
       "<table border=\"1\" class=\"dataframe\">\n",
       "  <thead>\n",
       "    <tr style=\"text-align: right;\">\n",
       "      <th></th>\n",
       "      <th>employee_id</th>\n",
       "      <th>amount</th>\n",
       "      <th>from_date</th>\n",
       "      <th>to_date</th>\n",
       "    </tr>\n",
       "  </thead>\n",
       "  <tbody>\n",
       "    <tr>\n",
       "      <th>0</th>\n",
       "      <td>10001</td>\n",
       "      <td>60117</td>\n",
       "      <td>1986-06-26</td>\n",
       "      <td>1987-06-26</td>\n",
       "    </tr>\n",
       "    <tr>\n",
       "      <th>1</th>\n",
       "      <td>10001</td>\n",
       "      <td>62102</td>\n",
       "      <td>1987-06-26</td>\n",
       "      <td>1988-06-25</td>\n",
       "    </tr>\n",
       "    <tr>\n",
       "      <th>2</th>\n",
       "      <td>10001</td>\n",
       "      <td>66074</td>\n",
       "      <td>1988-06-25</td>\n",
       "      <td>1989-06-25</td>\n",
       "    </tr>\n",
       "    <tr>\n",
       "      <th>3</th>\n",
       "      <td>10001</td>\n",
       "      <td>66596</td>\n",
       "      <td>1989-06-25</td>\n",
       "      <td>1990-06-25</td>\n",
       "    </tr>\n",
       "    <tr>\n",
       "      <th>4</th>\n",
       "      <td>10001</td>\n",
       "      <td>66961</td>\n",
       "      <td>1990-06-25</td>\n",
       "      <td>1991-06-25</td>\n",
       "    </tr>\n",
       "    <tr>\n",
       "      <th>...</th>\n",
       "      <td>...</td>\n",
       "      <td>...</td>\n",
       "      <td>...</td>\n",
       "      <td>...</td>\n",
       "    </tr>\n",
       "    <tr>\n",
       "      <th>1141778</th>\n",
       "      <td>220134</td>\n",
       "      <td>77987</td>\n",
       "      <td>1997-09-02</td>\n",
       "      <td>1998-09-02</td>\n",
       "    </tr>\n",
       "    <tr>\n",
       "      <th>1141779</th>\n",
       "      <td>220134</td>\n",
       "      <td>77594</td>\n",
       "      <td>1998-09-02</td>\n",
       "      <td>1999-09-02</td>\n",
       "    </tr>\n",
       "    <tr>\n",
       "      <th>1141780</th>\n",
       "      <td>220134</td>\n",
       "      <td>80694</td>\n",
       "      <td>1999-09-02</td>\n",
       "      <td>2000-09-01</td>\n",
       "    </tr>\n",
       "    <tr>\n",
       "      <th>1141781</th>\n",
       "      <td>220134</td>\n",
       "      <td>83016</td>\n",
       "      <td>2000-09-01</td>\n",
       "      <td>2001-09-01</td>\n",
       "    </tr>\n",
       "    <tr>\n",
       "      <th>1141782</th>\n",
       "      <td>220134</td>\n",
       "      <td>86198</td>\n",
       "      <td>2001-09-01</td>\n",
       "      <td>9999-01-01</td>\n",
       "    </tr>\n",
       "  </tbody>\n",
       "</table>\n",
       "<p>1141783 rows × 4 columns</p>\n",
       "</div>"
      ],
      "text/plain": [
       "         employee_id  amount   from_date     to_date\n",
       "0              10001   60117  1986-06-26  1987-06-26\n",
       "1              10001   62102  1987-06-26  1988-06-25\n",
       "2              10001   66074  1988-06-25  1989-06-25\n",
       "3              10001   66596  1989-06-25  1990-06-25\n",
       "4              10001   66961  1990-06-25  1991-06-25\n",
       "...              ...     ...         ...         ...\n",
       "1141778       220134   77987  1997-09-02  1998-09-02\n",
       "1141779       220134   77594  1998-09-02  1999-09-02\n",
       "1141780       220134   80694  1999-09-02  2000-09-01\n",
       "1141781       220134   83016  2000-09-01  2001-09-01\n",
       "1141782       220134   86198  2001-09-01  9999-01-01\n",
       "\n",
       "[1141783 rows x 4 columns]"
      ]
     },
     "execution_count": 36,
     "metadata": {},
     "output_type": "execute_result"
    }
   ],
   "source": [
    "Salary"
   ]
  },
  {
   "cell_type": "code",
   "execution_count": 37,
   "id": "4a38245f",
   "metadata": {},
   "outputs": [
    {
     "data": {
      "text/plain": [
       "4567132"
      ]
     },
     "execution_count": 37,
     "metadata": {},
     "output_type": "execute_result"
    }
   ],
   "source": [
    "Salary.size"
   ]
  },
  {
   "cell_type": "code",
   "execution_count": 38,
   "id": "abeb9901",
   "metadata": {},
   "outputs": [
    {
     "data": {
      "text/plain": [
       "(1141783, 4)"
      ]
     },
     "execution_count": 38,
     "metadata": {},
     "output_type": "execute_result"
    }
   ],
   "source": [
    "Salary.shape"
   ]
  },
  {
   "cell_type": "code",
   "execution_count": 39,
   "id": "9f42de44",
   "metadata": {},
   "outputs": [
    {
     "name": "stdout",
     "output_type": "stream",
     "text": [
      "<class 'pandas.core.frame.DataFrame'>\n",
      "RangeIndex: 1141783 entries, 0 to 1141782\n",
      "Data columns (total 4 columns):\n",
      " #   Column       Non-Null Count    Dtype \n",
      "---  ------       --------------    ----- \n",
      " 0   employee_id  1141783 non-null  int64 \n",
      " 1   amount       1141783 non-null  int64 \n",
      " 2   from_date    1141783 non-null  object\n",
      " 3   to_date      1141783 non-null  object\n",
      "dtypes: int64(2), object(2)\n",
      "memory usage: 34.8+ MB\n"
     ]
    }
   ],
   "source": [
    "Salary.info()"
   ]
  },
  {
   "cell_type": "code",
   "execution_count": 40,
   "id": "30ce7303",
   "metadata": {},
   "outputs": [
    {
     "data": {
      "text/plain": [
       "Index(['employee_id', 'amount', 'from_date', 'to_date'], dtype='object')"
      ]
     },
     "execution_count": 40,
     "metadata": {},
     "output_type": "execute_result"
    }
   ],
   "source": [
    "Salary.columns"
   ]
  },
  {
   "cell_type": "code",
   "execution_count": 41,
   "id": "d3a45dc7",
   "metadata": {},
   "outputs": [
    {
     "data": {
      "text/plain": [
       "<bound method DataFrame.value_counts of          employee_id  amount   from_date     to_date\n",
       "0              10001   60117  1986-06-26  1987-06-26\n",
       "1              10001   62102  1987-06-26  1988-06-25\n",
       "2              10001   66074  1988-06-25  1989-06-25\n",
       "3              10001   66596  1989-06-25  1990-06-25\n",
       "4              10001   66961  1990-06-25  1991-06-25\n",
       "...              ...     ...         ...         ...\n",
       "1141778       220134   77987  1997-09-02  1998-09-02\n",
       "1141779       220134   77594  1998-09-02  1999-09-02\n",
       "1141780       220134   80694  1999-09-02  2000-09-01\n",
       "1141781       220134   83016  2000-09-01  2001-09-01\n",
       "1141782       220134   86198  2001-09-01  9999-01-01\n",
       "\n",
       "[1141783 rows x 4 columns]>"
      ]
     },
     "execution_count": 41,
     "metadata": {},
     "output_type": "execute_result"
    }
   ],
   "source": [
    "Salary.value_counts"
   ]
  },
  {
   "cell_type": "code",
   "execution_count": 42,
   "id": "4d049112",
   "metadata": {},
   "outputs": [
    {
     "data": {
      "text/plain": [
       "0          False\n",
       "1          False\n",
       "2          False\n",
       "3          False\n",
       "4          False\n",
       "           ...  \n",
       "1141778    False\n",
       "1141779    False\n",
       "1141780    False\n",
       "1141781    False\n",
       "1141782    False\n",
       "Length: 1141783, dtype: bool"
      ]
     },
     "execution_count": 42,
     "metadata": {},
     "output_type": "execute_result"
    }
   ],
   "source": [
    "Salary.duplicated()"
   ]
  },
  {
   "cell_type": "markdown",
   "id": "6e1dab10",
   "metadata": {},
   "source": [
    "## Title Dataframe"
   ]
  },
  {
   "cell_type": "code",
   "execution_count": 43,
   "id": "70220890",
   "metadata": {},
   "outputs": [
    {
     "name": "stderr",
     "output_type": "stream",
     "text": [
      "C:\\Users\\Admin\\anaconda3\\lib\\site-packages\\pandas\\io\\sql.py:762: UserWarning: pandas only support SQLAlchemy connectable(engine/connection) ordatabase string URI or sqlite3 DBAPI2 connectionother DBAPI2 objects are not tested, please consider using SQLAlchemy\n",
      "  warnings.warn(\n"
     ]
    }
   ],
   "source": [
    "Title=pd.read_sql_query(\"\"\"select * from employees.title\"\"\",connection)"
   ]
  },
  {
   "cell_type": "code",
   "execution_count": 44,
   "id": "48f4a19f",
   "metadata": {},
   "outputs": [
    {
     "data": {
      "text/html": [
       "<div>\n",
       "<style scoped>\n",
       "    .dataframe tbody tr th:only-of-type {\n",
       "        vertical-align: middle;\n",
       "    }\n",
       "\n",
       "    .dataframe tbody tr th {\n",
       "        vertical-align: top;\n",
       "    }\n",
       "\n",
       "    .dataframe thead th {\n",
       "        text-align: right;\n",
       "    }\n",
       "</style>\n",
       "<table border=\"1\" class=\"dataframe\">\n",
       "  <thead>\n",
       "    <tr style=\"text-align: right;\">\n",
       "      <th></th>\n",
       "      <th>employee_id</th>\n",
       "      <th>title</th>\n",
       "      <th>from_date</th>\n",
       "      <th>to_date</th>\n",
       "    </tr>\n",
       "  </thead>\n",
       "  <tbody>\n",
       "    <tr>\n",
       "      <th>0</th>\n",
       "      <td>10001</td>\n",
       "      <td>Senior Engineer</td>\n",
       "      <td>1986-06-26</td>\n",
       "      <td>9999-01-01</td>\n",
       "    </tr>\n",
       "    <tr>\n",
       "      <th>1</th>\n",
       "      <td>10002</td>\n",
       "      <td>Staff</td>\n",
       "      <td>1996-08-03</td>\n",
       "      <td>9999-01-01</td>\n",
       "    </tr>\n",
       "    <tr>\n",
       "      <th>2</th>\n",
       "      <td>10003</td>\n",
       "      <td>Senior Engineer</td>\n",
       "      <td>1995-12-03</td>\n",
       "      <td>9999-01-01</td>\n",
       "    </tr>\n",
       "    <tr>\n",
       "      <th>3</th>\n",
       "      <td>10004</td>\n",
       "      <td>Engineer</td>\n",
       "      <td>1986-12-01</td>\n",
       "      <td>1995-12-01</td>\n",
       "    </tr>\n",
       "    <tr>\n",
       "      <th>4</th>\n",
       "      <td>10004</td>\n",
       "      <td>Senior Engineer</td>\n",
       "      <td>1995-12-01</td>\n",
       "      <td>9999-01-01</td>\n",
       "    </tr>\n",
       "    <tr>\n",
       "      <th>...</th>\n",
       "      <td>...</td>\n",
       "      <td>...</td>\n",
       "      <td>...</td>\n",
       "      <td>...</td>\n",
       "    </tr>\n",
       "    <tr>\n",
       "      <th>443303</th>\n",
       "      <td>499997</td>\n",
       "      <td>Engineer</td>\n",
       "      <td>1987-08-30</td>\n",
       "      <td>1992-08-29</td>\n",
       "    </tr>\n",
       "    <tr>\n",
       "      <th>443304</th>\n",
       "      <td>499997</td>\n",
       "      <td>Senior Engineer</td>\n",
       "      <td>1992-08-29</td>\n",
       "      <td>9999-01-01</td>\n",
       "    </tr>\n",
       "    <tr>\n",
       "      <th>443305</th>\n",
       "      <td>499998</td>\n",
       "      <td>Senior Staff</td>\n",
       "      <td>1998-12-27</td>\n",
       "      <td>9999-01-01</td>\n",
       "    </tr>\n",
       "    <tr>\n",
       "      <th>443306</th>\n",
       "      <td>499998</td>\n",
       "      <td>Staff</td>\n",
       "      <td>1993-12-27</td>\n",
       "      <td>1998-12-27</td>\n",
       "    </tr>\n",
       "    <tr>\n",
       "      <th>443307</th>\n",
       "      <td>499999</td>\n",
       "      <td>Engineer</td>\n",
       "      <td>1997-11-30</td>\n",
       "      <td>9999-01-01</td>\n",
       "    </tr>\n",
       "  </tbody>\n",
       "</table>\n",
       "<p>443308 rows × 4 columns</p>\n",
       "</div>"
      ],
      "text/plain": [
       "        employee_id            title   from_date     to_date\n",
       "0             10001  Senior Engineer  1986-06-26  9999-01-01\n",
       "1             10002            Staff  1996-08-03  9999-01-01\n",
       "2             10003  Senior Engineer  1995-12-03  9999-01-01\n",
       "3             10004         Engineer  1986-12-01  1995-12-01\n",
       "4             10004  Senior Engineer  1995-12-01  9999-01-01\n",
       "...             ...              ...         ...         ...\n",
       "443303       499997         Engineer  1987-08-30  1992-08-29\n",
       "443304       499997  Senior Engineer  1992-08-29  9999-01-01\n",
       "443305       499998     Senior Staff  1998-12-27  9999-01-01\n",
       "443306       499998            Staff  1993-12-27  1998-12-27\n",
       "443307       499999         Engineer  1997-11-30  9999-01-01\n",
       "\n",
       "[443308 rows x 4 columns]"
      ]
     },
     "execution_count": 44,
     "metadata": {},
     "output_type": "execute_result"
    }
   ],
   "source": [
    "Title"
   ]
  },
  {
   "cell_type": "code",
   "execution_count": 45,
   "id": "978b119d",
   "metadata": {},
   "outputs": [
    {
     "data": {
      "text/plain": [
       "1773232"
      ]
     },
     "execution_count": 45,
     "metadata": {},
     "output_type": "execute_result"
    }
   ],
   "source": [
    "Title.size"
   ]
  },
  {
   "cell_type": "code",
   "execution_count": 46,
   "id": "06cb0730",
   "metadata": {},
   "outputs": [
    {
     "data": {
      "text/plain": [
       "(443308, 4)"
      ]
     },
     "execution_count": 46,
     "metadata": {},
     "output_type": "execute_result"
    }
   ],
   "source": [
    "Title.shape"
   ]
  },
  {
   "cell_type": "code",
   "execution_count": 47,
   "id": "b2a7e094",
   "metadata": {},
   "outputs": [
    {
     "name": "stdout",
     "output_type": "stream",
     "text": [
      "<class 'pandas.core.frame.DataFrame'>\n",
      "RangeIndex: 443308 entries, 0 to 443307\n",
      "Data columns (total 4 columns):\n",
      " #   Column       Non-Null Count   Dtype \n",
      "---  ------       --------------   ----- \n",
      " 0   employee_id  443308 non-null  int64 \n",
      " 1   title        443308 non-null  object\n",
      " 2   from_date    443308 non-null  object\n",
      " 3   to_date      443308 non-null  object\n",
      "dtypes: int64(1), object(3)\n",
      "memory usage: 13.5+ MB\n"
     ]
    }
   ],
   "source": [
    "Title.info()"
   ]
  },
  {
   "cell_type": "code",
   "execution_count": 48,
   "id": "d0b2a784",
   "metadata": {},
   "outputs": [
    {
     "data": {
      "text/plain": [
       "Index(['employee_id', 'title', 'from_date', 'to_date'], dtype='object')"
      ]
     },
     "execution_count": 48,
     "metadata": {},
     "output_type": "execute_result"
    }
   ],
   "source": [
    "Title.columns"
   ]
  },
  {
   "cell_type": "code",
   "execution_count": 49,
   "id": "d1398608",
   "metadata": {},
   "outputs": [
    {
     "data": {
      "text/plain": [
       "<bound method DataFrame.value_counts of         employee_id            title   from_date     to_date\n",
       "0             10001  Senior Engineer  1986-06-26  9999-01-01\n",
       "1             10002            Staff  1996-08-03  9999-01-01\n",
       "2             10003  Senior Engineer  1995-12-03  9999-01-01\n",
       "3             10004         Engineer  1986-12-01  1995-12-01\n",
       "4             10004  Senior Engineer  1995-12-01  9999-01-01\n",
       "...             ...              ...         ...         ...\n",
       "443303       499997         Engineer  1987-08-30  1992-08-29\n",
       "443304       499997  Senior Engineer  1992-08-29  9999-01-01\n",
       "443305       499998     Senior Staff  1998-12-27  9999-01-01\n",
       "443306       499998            Staff  1993-12-27  1998-12-27\n",
       "443307       499999         Engineer  1997-11-30  9999-01-01\n",
       "\n",
       "[443308 rows x 4 columns]>"
      ]
     },
     "execution_count": 49,
     "metadata": {},
     "output_type": "execute_result"
    }
   ],
   "source": [
    "Title.value_counts"
   ]
  },
  {
   "cell_type": "code",
   "execution_count": 50,
   "id": "b9d02878",
   "metadata": {},
   "outputs": [
    {
     "data": {
      "text/plain": [
       "0         False\n",
       "1         False\n",
       "2         False\n",
       "3         False\n",
       "4         False\n",
       "          ...  \n",
       "443303    False\n",
       "443304    False\n",
       "443305    False\n",
       "443306    False\n",
       "443307    False\n",
       "Length: 443308, dtype: bool"
      ]
     },
     "execution_count": 50,
     "metadata": {},
     "output_type": "execute_result"
    }
   ],
   "source": [
    "Title.duplicated()"
   ]
  },
  {
   "cell_type": "markdown",
   "id": "c1143a8f",
   "metadata": {},
   "source": [
    "## Which department has the highest average salary of active employees ? Give some plots to show the average salary department-wise."
   ]
  },
  {
   "cell_type": "code",
   "execution_count": 51,
   "id": "9cf18258",
   "metadata": {},
   "outputs": [],
   "source": [
    "sql_query=\"\"\"\n",
    "\n",
    "select d.dept_name,avg(s.amount) as Avg_salary\n",
    "from employees.department d\n",
    "left join employees.department_employee e\n",
    "on d.id=e.department_id\n",
    "left join employees.salary s\n",
    "on e.employee_id=s.employee_id\n",
    "where e.to_date = '9999-01-01'\n",
    "group by d.dept_name\n",
    "order by Avg_salary desc\n",
    ";\n",
    "\n",
    "\n",
    "\n",
    "\"\"\""
   ]
  },
  {
   "cell_type": "code",
   "execution_count": 52,
   "id": "a471989a",
   "metadata": {},
   "outputs": [
    {
     "name": "stderr",
     "output_type": "stream",
     "text": [
      "C:\\Users\\Admin\\anaconda3\\lib\\site-packages\\pandas\\io\\sql.py:762: UserWarning: pandas only support SQLAlchemy connectable(engine/connection) ordatabase string URI or sqlite3 DBAPI2 connectionother DBAPI2 objects are not tested, please consider using SQLAlchemy\n",
      "  warnings.warn(\n"
     ]
    }
   ],
   "source": [
    "df=pd.read_sql_query(sql_query,connection)"
   ]
  },
  {
   "cell_type": "code",
   "execution_count": 53,
   "id": "254ea29e",
   "metadata": {},
   "outputs": [
    {
     "data": {
      "text/html": [
       "<div>\n",
       "<style scoped>\n",
       "    .dataframe tbody tr th:only-of-type {\n",
       "        vertical-align: middle;\n",
       "    }\n",
       "\n",
       "    .dataframe tbody tr th {\n",
       "        vertical-align: top;\n",
       "    }\n",
       "\n",
       "    .dataframe thead th {\n",
       "        text-align: right;\n",
       "    }\n",
       "</style>\n",
       "<table border=\"1\" class=\"dataframe\">\n",
       "  <thead>\n",
       "    <tr style=\"text-align: right;\">\n",
       "      <th></th>\n",
       "      <th>dept_name</th>\n",
       "      <th>avg_salary</th>\n",
       "    </tr>\n",
       "  </thead>\n",
       "  <tbody>\n",
       "    <tr>\n",
       "      <th>0</th>\n",
       "      <td>Sales</td>\n",
       "      <td>81148.212131</td>\n",
       "    </tr>\n",
       "    <tr>\n",
       "      <th>1</th>\n",
       "      <td>Marketing</td>\n",
       "      <td>72304.068985</td>\n",
       "    </tr>\n",
       "    <tr>\n",
       "      <th>2</th>\n",
       "      <td>Finance</td>\n",
       "      <td>70684.080593</td>\n",
       "    </tr>\n",
       "    <tr>\n",
       "      <th>3</th>\n",
       "      <td>Research</td>\n",
       "      <td>60364.938503</td>\n",
       "    </tr>\n",
       "    <tr>\n",
       "      <th>4</th>\n",
       "      <td>Production</td>\n",
       "      <td>60016.111831</td>\n",
       "    </tr>\n",
       "  </tbody>\n",
       "</table>\n",
       "</div>"
      ],
      "text/plain": [
       "    dept_name    avg_salary\n",
       "0       Sales  81148.212131\n",
       "1   Marketing  72304.068985\n",
       "2     Finance  70684.080593\n",
       "3    Research  60364.938503\n",
       "4  Production  60016.111831"
      ]
     },
     "execution_count": 53,
     "metadata": {},
     "output_type": "execute_result"
    }
   ],
   "source": [
    "df.head()"
   ]
  },
  {
   "cell_type": "code",
   "execution_count": 54,
   "id": "23c0b89e",
   "metadata": {},
   "outputs": [
    {
     "data": {
      "image/png": "[encoded data removed]",
      "text/plain": [
       "<Figure size 1000x500 with 1 Axes>"
      ]
     },
     "metadata": {},
     "output_type": "display_data"
    }
   ],
   "source": [
    "fig, ax = plt.subplots(figsize=(10, 5))\n",
    "sns.barplot(x='dept_name', y='avg_salary', data=df,ci=None,palette='viridis' ,ax=ax)\n",
    "plt.xlabel('Department Name', fontsize=10)\n",
    "plt.ylabel('Salary', fontsize=10)\n",
    "plt.title('Average Salary by Department')\n",
    "plt.xticks(rotation=45)\n",
    "#plt.tight_layout()\n",
    "plt.show()"
   ]
  },
  {
   "cell_type": "markdown",
   "id": "9c2452bd",
   "metadata": {},
   "source": [
    "## Which title has the highest average salary? Give some plots to show the average salary title-wise.\n"
   ]
  },
  {
   "cell_type": "code",
   "execution_count": 55,
   "id": "c431a63e",
   "metadata": {},
   "outputs": [],
   "source": [
    "sql_query=\"\"\"\n",
    "select t.title,avg(s.amount)as avg_salary\n",
    "from employees.title t\n",
    "inner join employees.salary s\n",
    "on t.employee_id=s.employee_id\n",
    "group by title\n",
    "order by avg(s.amount) desc\n",
    "\n",
    "\"\"\""
   ]
  },
  {
   "cell_type": "code",
   "execution_count": 56,
   "id": "dbd70e3a",
   "metadata": {},
   "outputs": [
    {
     "name": "stderr",
     "output_type": "stream",
     "text": [
      "C:\\Users\\Admin\\anaconda3\\lib\\site-packages\\pandas\\io\\sql.py:762: UserWarning: pandas only support SQLAlchemy connectable(engine/connection) ordatabase string URI or sqlite3 DBAPI2 connectionother DBAPI2 objects are not tested, please consider using SQLAlchemy\n",
      "  warnings.warn(\n"
     ]
    }
   ],
   "source": [
    "df1=pd.read_sql_query(sql_query,connection)"
   ]
  },
  {
   "cell_type": "code",
   "execution_count": 57,
   "id": "0ed88174",
   "metadata": {},
   "outputs": [
    {
     "data": {
      "text/html": [
       "<div>\n",
       "<style scoped>\n",
       "    .dataframe tbody tr th:only-of-type {\n",
       "        vertical-align: middle;\n",
       "    }\n",
       "\n",
       "    .dataframe tbody tr th {\n",
       "        vertical-align: top;\n",
       "    }\n",
       "\n",
       "    .dataframe thead th {\n",
       "        text-align: right;\n",
       "    }\n",
       "</style>\n",
       "<table border=\"1\" class=\"dataframe\">\n",
       "  <thead>\n",
       "    <tr style=\"text-align: right;\">\n",
       "      <th></th>\n",
       "      <th>title</th>\n",
       "      <th>avg_salary</th>\n",
       "    </tr>\n",
       "  </thead>\n",
       "  <tbody>\n",
       "    <tr>\n",
       "      <th>0</th>\n",
       "      <td>Senior Staff</td>\n",
       "      <td>70364.071471</td>\n",
       "    </tr>\n",
       "    <tr>\n",
       "      <th>1</th>\n",
       "      <td>Staff</td>\n",
       "      <td>69247.312731</td>\n",
       "    </tr>\n",
       "    <tr>\n",
       "      <th>2</th>\n",
       "      <td>Manager</td>\n",
       "      <td>66924.270619</td>\n",
       "    </tr>\n",
       "    <tr>\n",
       "      <th>3</th>\n",
       "      <td>Senior Engineer</td>\n",
       "      <td>60542.020750</td>\n",
       "    </tr>\n",
       "    <tr>\n",
       "      <th>4</th>\n",
       "      <td>Engineer</td>\n",
       "      <td>59490.946198</td>\n",
       "    </tr>\n",
       "  </tbody>\n",
       "</table>\n",
       "</div>"
      ],
      "text/plain": [
       "             title    avg_salary\n",
       "0     Senior Staff  70364.071471\n",
       "1            Staff  69247.312731\n",
       "2          Manager  66924.270619\n",
       "3  Senior Engineer  60542.020750\n",
       "4         Engineer  59490.946198"
      ]
     },
     "execution_count": 57,
     "metadata": {},
     "output_type": "execute_result"
    }
   ],
   "source": [
    "df1.head()"
   ]
  },
  {
   "cell_type": "code",
   "execution_count": 58,
   "id": "dfe0f722",
   "metadata": {},
   "outputs": [
    {
     "data": {
      "image/png": "[encoded data removed]",
      "text/plain": [
       "<Figure size 640x480 with 1 Axes>"
      ]
     },
     "metadata": {},
     "output_type": "display_data"
    }
   ],
   "source": [
    "sns.barplot(x='title', y='avg_salary', data=df1,ci=None, palette='magma')\n",
    "plt.xlabel('Title', fontsize=10)\n",
    "plt.ylabel('Salary', fontsize=10)\n",
    "plt.title('Highest Average Salary Title Wise')\n",
    "plt.xticks(rotation=45)\n",
    "plt.tight_layout()\n",
    "plt.show()"
   ]
  },
  {
   "cell_type": "markdown",
   "id": "042ba147",
   "metadata": {},
   "source": [
    "## Distribution of salary across titles\n"
   ]
  },
  {
   "cell_type": "code",
   "execution_count": 59,
   "id": "88e969e0",
   "metadata": {},
   "outputs": [],
   "source": [
    "sql_query=\"\"\"\n",
    "\n",
    "select t.title,s.amount\n",
    "from employees.title t\n",
    "inner join employees.salary s\n",
    "on t.employee_id=s.employee_id\n",
    "order by s.amount desc\n",
    "\n",
    "\"\"\""
   ]
  },
  {
   "cell_type": "code",
   "execution_count": 60,
   "id": "0857dc29",
   "metadata": {},
   "outputs": [
    {
     "name": "stderr",
     "output_type": "stream",
     "text": [
      "C:\\Users\\Admin\\anaconda3\\lib\\site-packages\\pandas\\io\\sql.py:762: UserWarning: pandas only support SQLAlchemy connectable(engine/connection) ordatabase string URI or sqlite3 DBAPI2 connectionother DBAPI2 objects are not tested, please consider using SQLAlchemy\n",
      "  warnings.warn(\n"
     ]
    }
   ],
   "source": [
    "df2=pd.read_sql_query(sql_query,connection)"
   ]
  },
  {
   "cell_type": "code",
   "execution_count": 61,
   "id": "295efba0",
   "metadata": {},
   "outputs": [
    {
     "data": {
      "text/html": [
       "<div>\n",
       "<style scoped>\n",
       "    .dataframe tbody tr th:only-of-type {\n",
       "        vertical-align: middle;\n",
       "    }\n",
       "\n",
       "    .dataframe tbody tr th {\n",
       "        vertical-align: top;\n",
       "    }\n",
       "\n",
       "    .dataframe thead th {\n",
       "        text-align: right;\n",
       "    }\n",
       "</style>\n",
       "<table border=\"1\" class=\"dataframe\">\n",
       "  <thead>\n",
       "    <tr style=\"text-align: right;\">\n",
       "      <th></th>\n",
       "      <th>title</th>\n",
       "      <th>amount</th>\n",
       "    </tr>\n",
       "  </thead>\n",
       "  <tbody>\n",
       "    <tr>\n",
       "      <th>0</th>\n",
       "      <td>Staff</td>\n",
       "      <td>158220</td>\n",
       "    </tr>\n",
       "    <tr>\n",
       "      <th>1</th>\n",
       "      <td>Senior Staff</td>\n",
       "      <td>158220</td>\n",
       "    </tr>\n",
       "    <tr>\n",
       "      <th>2</th>\n",
       "      <td>Senior Staff</td>\n",
       "      <td>157821</td>\n",
       "    </tr>\n",
       "    <tr>\n",
       "      <th>3</th>\n",
       "      <td>Staff</td>\n",
       "      <td>157821</td>\n",
       "    </tr>\n",
       "    <tr>\n",
       "      <th>4</th>\n",
       "      <td>Senior Staff</td>\n",
       "      <td>155709</td>\n",
       "    </tr>\n",
       "  </tbody>\n",
       "</table>\n",
       "</div>"
      ],
      "text/plain": [
       "          title  amount\n",
       "0         Staff  158220\n",
       "1  Senior Staff  158220\n",
       "2  Senior Staff  157821\n",
       "3         Staff  157821\n",
       "4  Senior Staff  155709"
      ]
     },
     "execution_count": 61,
     "metadata": {},
     "output_type": "execute_result"
    }
   ],
   "source": [
    "df2.head()"
   ]
  },
  {
   "cell_type": "code",
   "execution_count": 62,
   "id": "0d285fc0",
   "metadata": {},
   "outputs": [
    {
     "data": {
      "image/png": "[encoded data removed]",
      "text/plain": [
       "<Figure size 640x480 with 1 Axes>"
      ]
     },
     "metadata": {},
     "output_type": "display_data"
    }
   ],
   "source": [
    "sns.barplot(x='title', y='amount', data=df2,ci=None, palette='coolwarm')\n",
    "plt.xlabel('Title', fontsize=10)\n",
    "plt.ylabel('Salary', fontsize=10)\n",
    "plt.title('Distribution of Salary by Title')\n",
    "plt.xticks(rotation=45, fontsize=10)\n",
    "plt.tight_layout()\n",
    "plt.show()\n"
   ]
  },
  {
   "cell_type": "markdown",
   "id": "89229660",
   "metadata": {},
   "source": [
    "## Distribution of salary across departments"
   ]
  },
  {
   "cell_type": "code",
   "execution_count": 63,
   "id": "7467af32",
   "metadata": {},
   "outputs": [],
   "source": [
    "sql_query=\"\"\"\n",
    "\n",
    "select d.dept_name,s.amount\n",
    "from employees.department d\n",
    "inner join employees.department_employee e\n",
    "on d.id=e.department_id\n",
    "inner join employees.salary s\n",
    "on e.employee_id=s.employee_id\n",
    "order by  dept_name desc\n",
    "\"\"\""
   ]
  },
  {
   "cell_type": "code",
   "execution_count": 64,
   "id": "2d8041f3",
   "metadata": {},
   "outputs": [
    {
     "name": "stderr",
     "output_type": "stream",
     "text": [
      "C:\\Users\\Admin\\anaconda3\\lib\\site-packages\\pandas\\io\\sql.py:762: UserWarning: pandas only support SQLAlchemy connectable(engine/connection) ordatabase string URI or sqlite3 DBAPI2 connectionother DBAPI2 objects are not tested, please consider using SQLAlchemy\n",
      "  warnings.warn(\n"
     ]
    }
   ],
   "source": [
    "df3=pd.read_sql_query(sql_query,connection)"
   ]
  },
  {
   "cell_type": "code",
   "execution_count": 65,
   "id": "7a6b8713",
   "metadata": {},
   "outputs": [
    {
     "data": {
      "text/html": [
       "<div>\n",
       "<style scoped>\n",
       "    .dataframe tbody tr th:only-of-type {\n",
       "        vertical-align: middle;\n",
       "    }\n",
       "\n",
       "    .dataframe tbody tr th {\n",
       "        vertical-align: top;\n",
       "    }\n",
       "\n",
       "    .dataframe thead th {\n",
       "        text-align: right;\n",
       "    }\n",
       "</style>\n",
       "<table border=\"1\" class=\"dataframe\">\n",
       "  <thead>\n",
       "    <tr style=\"text-align: right;\">\n",
       "      <th></th>\n",
       "      <th>dept_name</th>\n",
       "      <th>amount</th>\n",
       "    </tr>\n",
       "  </thead>\n",
       "  <tbody>\n",
       "    <tr>\n",
       "      <th>0</th>\n",
       "      <td>Sales</td>\n",
       "      <td>72094</td>\n",
       "    </tr>\n",
       "    <tr>\n",
       "      <th>1</th>\n",
       "      <td>Sales</td>\n",
       "      <td>78882</td>\n",
       "    </tr>\n",
       "    <tr>\n",
       "      <th>2</th>\n",
       "      <td>Sales</td>\n",
       "      <td>60124</td>\n",
       "    </tr>\n",
       "    <tr>\n",
       "      <th>3</th>\n",
       "      <td>Sales</td>\n",
       "      <td>77517</td>\n",
       "    </tr>\n",
       "    <tr>\n",
       "      <th>4</th>\n",
       "      <td>Sales</td>\n",
       "      <td>57566</td>\n",
       "    </tr>\n",
       "  </tbody>\n",
       "</table>\n",
       "</div>"
      ],
      "text/plain": [
       "  dept_name  amount\n",
       "0     Sales   72094\n",
       "1     Sales   78882\n",
       "2     Sales   60124\n",
       "3     Sales   77517\n",
       "4     Sales   57566"
      ]
     },
     "execution_count": 65,
     "metadata": {},
     "output_type": "execute_result"
    }
   ],
   "source": [
    "df3.head()"
   ]
  },
  {
   "cell_type": "code",
   "execution_count": 66,
   "id": "dd5e78c8",
   "metadata": {},
   "outputs": [
    {
     "data": {
      "image/png": "[encoded data removed]",
      "text/plain": [
       "<Figure size 640x480 with 1 Axes>"
      ]
     },
     "metadata": {},
     "output_type": "display_data"
    }
   ],
   "source": [
    "sns.barplot(x='dept_name', y='amount', data=df3,ci=None, palette='Spectral')\n",
    "plt.xlabel('Department Name', fontsize=10)\n",
    "plt.ylabel('Amount', fontsize=10)\n",
    "plt.title('Distribution of Salary by Department')\n",
    "plt.xticks(rotation=45, fontsize=10)\n",
    "plt.tight_layout()\n",
    "plt.show()\n"
   ]
  },
  {
   "cell_type": "markdown",
   "id": "23edc47e",
   "metadata": {},
   "source": [
    "## How many active managers in each department. Is there any department with no manager"
   ]
  },
  {
   "cell_type": "code",
   "execution_count": 67,
   "id": "897935ae",
   "metadata": {},
   "outputs": [],
   "source": [
    "sql_query=\"\"\"\n",
    "select d.dept_name,t.title,count(dm.department_id)\n",
    "from employees.department d\n",
    "left join employees.department_manager dm \n",
    "on d.id=dm.department_id\n",
    "left join employees.title t\n",
    "on dm.employee_id=t.employee_id\n",
    "where dm.to_date='9999-01-01' and t.title='Manager'\n",
    "group by d.dept_name,t.title\n",
    "order by dept_name asc\n",
    "\n",
    "\"\"\""
   ]
  },
  {
   "cell_type": "code",
   "execution_count": 68,
   "id": "b9e37632",
   "metadata": {},
   "outputs": [
    {
     "name": "stderr",
     "output_type": "stream",
     "text": [
      "C:\\Users\\Admin\\anaconda3\\lib\\site-packages\\pandas\\io\\sql.py:762: UserWarning: pandas only support SQLAlchemy connectable(engine/connection) ordatabase string URI or sqlite3 DBAPI2 connectionother DBAPI2 objects are not tested, please consider using SQLAlchemy\n",
      "  warnings.warn(\n"
     ]
    }
   ],
   "source": [
    "df4=pd.read_sql_query(sql_query,connection)"
   ]
  },
  {
   "cell_type": "code",
   "execution_count": 69,
   "id": "84bb5a72",
   "metadata": {},
   "outputs": [
    {
     "data": {
      "text/html": [
       "<div>\n",
       "<style scoped>\n",
       "    .dataframe tbody tr th:only-of-type {\n",
       "        vertical-align: middle;\n",
       "    }\n",
       "\n",
       "    .dataframe tbody tr th {\n",
       "        vertical-align: top;\n",
       "    }\n",
       "\n",
       "    .dataframe thead th {\n",
       "        text-align: right;\n",
       "    }\n",
       "</style>\n",
       "<table border=\"1\" class=\"dataframe\">\n",
       "  <thead>\n",
       "    <tr style=\"text-align: right;\">\n",
       "      <th></th>\n",
       "      <th>dept_name</th>\n",
       "      <th>title</th>\n",
       "      <th>count</th>\n",
       "    </tr>\n",
       "  </thead>\n",
       "  <tbody>\n",
       "    <tr>\n",
       "      <th>0</th>\n",
       "      <td>Customer Service</td>\n",
       "      <td>Manager</td>\n",
       "      <td>1</td>\n",
       "    </tr>\n",
       "    <tr>\n",
       "      <th>1</th>\n",
       "      <td>Development</td>\n",
       "      <td>Manager</td>\n",
       "      <td>1</td>\n",
       "    </tr>\n",
       "    <tr>\n",
       "      <th>2</th>\n",
       "      <td>Finance</td>\n",
       "      <td>Manager</td>\n",
       "      <td>1</td>\n",
       "    </tr>\n",
       "    <tr>\n",
       "      <th>3</th>\n",
       "      <td>Human Resources</td>\n",
       "      <td>Manager</td>\n",
       "      <td>1</td>\n",
       "    </tr>\n",
       "    <tr>\n",
       "      <th>4</th>\n",
       "      <td>Marketing</td>\n",
       "      <td>Manager</td>\n",
       "      <td>1</td>\n",
       "    </tr>\n",
       "  </tbody>\n",
       "</table>\n",
       "</div>"
      ],
      "text/plain": [
       "          dept_name    title  count\n",
       "0  Customer Service  Manager      1\n",
       "1       Development  Manager      1\n",
       "2           Finance  Manager      1\n",
       "3   Human Resources  Manager      1\n",
       "4         Marketing  Manager      1"
      ]
     },
     "execution_count": 69,
     "metadata": {},
     "output_type": "execute_result"
    }
   ],
   "source": [
    "df4.head()"
   ]
  },
  {
   "cell_type": "code",
   "execution_count": 70,
   "id": "7075f291",
   "metadata": {},
   "outputs": [
    {
     "data": {
      "image/png": "[encoded data removed]",
      "text/plain": [
       "<Figure size 640x480 with 1 Axes>"
      ]
     },
     "metadata": {},
     "output_type": "display_data"
    }
   ],
   "source": [
    "sns.barplot(x='dept_name', y='count', data=df4,ci=None,palette='inferno')\n",
    "plt.xlabel('Department Name', fontsize=10)  \n",
    "plt.ylabel('Count', fontsize=10)            \n",
    "plt.title('Active Managers in Each Department')  \n",
    "plt.xticks(rotation=45, fontsize=10)        \n",
    "plt.tight_layout()  \n",
    "plt.show()          \n"
   ]
  },
  {
   "cell_type": "markdown",
   "id": "05eb4552",
   "metadata": {},
   "source": [
    "## Composition of titles department-wise. Appropriate plots.\n"
   ]
  },
  {
   "cell_type": "code",
   "execution_count": 71,
   "id": "7e8592eb",
   "metadata": {},
   "outputs": [],
   "source": [
    "sql_query=\"\"\"\n",
    "select d.dept_name,t.title,count(d.id)\n",
    "from employees.department_employee e\n",
    "join employees.title t\n",
    "on e.employee_id=t.employee_id\n",
    "join employees.department d\n",
    "on e.department_id=d.id\n",
    "group by d.dept_name,t.title\n",
    "order by d.dept_name asc\n",
    "\n",
    "\n",
    "\"\"\""
   ]
  },
  {
   "cell_type": "code",
   "execution_count": 72,
   "id": "219b0aa4",
   "metadata": {},
   "outputs": [
    {
     "name": "stderr",
     "output_type": "stream",
     "text": [
      "C:\\Users\\Admin\\anaconda3\\lib\\site-packages\\pandas\\io\\sql.py:762: UserWarning: pandas only support SQLAlchemy connectable(engine/connection) ordatabase string URI or sqlite3 DBAPI2 connectionother DBAPI2 objects are not tested, please consider using SQLAlchemy\n",
      "  warnings.warn(\n"
     ]
    }
   ],
   "source": [
    "df5=pd.read_sql_query(sql_query,connection)"
   ]
  },
  {
   "cell_type": "code",
   "execution_count": 73,
   "id": "850b63b9",
   "metadata": {
    "scrolled": true
   },
   "outputs": [
    {
     "data": {
      "text/html": [
       "<div>\n",
       "<style scoped>\n",
       "    .dataframe tbody tr th:only-of-type {\n",
       "        vertical-align: middle;\n",
       "    }\n",
       "\n",
       "    .dataframe tbody tr th {\n",
       "        vertical-align: top;\n",
       "    }\n",
       "\n",
       "    .dataframe thead th {\n",
       "        text-align: right;\n",
       "    }\n",
       "</style>\n",
       "<table border=\"1\" class=\"dataframe\">\n",
       "  <thead>\n",
       "    <tr style=\"text-align: right;\">\n",
       "      <th></th>\n",
       "      <th>dept_name</th>\n",
       "      <th>title</th>\n",
       "      <th>count</th>\n",
       "    </tr>\n",
       "  </thead>\n",
       "  <tbody>\n",
       "    <tr>\n",
       "      <th>0</th>\n",
       "      <td>Customer Service</td>\n",
       "      <td>Assistant Engineer</td>\n",
       "      <td>298</td>\n",
       "    </tr>\n",
       "    <tr>\n",
       "      <th>1</th>\n",
       "      <td>Customer Service</td>\n",
       "      <td>Engineer</td>\n",
       "      <td>2362</td>\n",
       "    </tr>\n",
       "    <tr>\n",
       "      <th>2</th>\n",
       "      <td>Customer Service</td>\n",
       "      <td>Manager</td>\n",
       "      <td>4</td>\n",
       "    </tr>\n",
       "    <tr>\n",
       "      <th>3</th>\n",
       "      <td>Customer Service</td>\n",
       "      <td>Senior Engineer</td>\n",
       "      <td>2027</td>\n",
       "    </tr>\n",
       "    <tr>\n",
       "      <th>4</th>\n",
       "      <td>Customer Service</td>\n",
       "      <td>Senior Staff</td>\n",
       "      <td>13925</td>\n",
       "    </tr>\n",
       "  </tbody>\n",
       "</table>\n",
       "</div>"
      ],
      "text/plain": [
       "          dept_name               title  count\n",
       "0  Customer Service  Assistant Engineer    298\n",
       "1  Customer Service            Engineer   2362\n",
       "2  Customer Service             Manager      4\n",
       "3  Customer Service     Senior Engineer   2027\n",
       "4  Customer Service        Senior Staff  13925"
      ]
     },
     "execution_count": 73,
     "metadata": {},
     "output_type": "execute_result"
    }
   ],
   "source": [
    "df5.head()"
   ]
  },
  {
   "cell_type": "code",
   "execution_count": 74,
   "id": "35907112",
   "metadata": {},
   "outputs": [
    {
     "data": {
      "text/plain": [
       "Manager               9\n",
       "Senior Staff          8\n",
       "Staff                 8\n",
       "Assistant Engineer    5\n",
       "Engineer              5\n",
       "Senior Engineer       5\n",
       "Technique Leader      5\n",
       "Name: title, dtype: int64"
      ]
     },
     "execution_count": 74,
     "metadata": {},
     "output_type": "execute_result"
    }
   ],
   "source": [
    "title_counts = df5['title'].value_counts()\n",
    "title_counts"
   ]
  },
  {
   "cell_type": "code",
   "execution_count": 75,
   "id": "7eeb7792",
   "metadata": {},
   "outputs": [
    {
     "data": {
      "image/png": "[encoded data removed]",
      "text/plain": [
       "<Figure size 1000x600 with 1 Axes>"
      ]
     },
     "metadata": {},
     "output_type": "display_data"
    }
   ],
   "source": [
    "plt.figure(figsize=(10, 6))\n",
    "plt.pie(title_counts, labels=title_counts.index, autopct='%.2f', explode=[0.1] * len(title_counts))\n",
    "plt.axis('equal')  \n",
    "plt.title('Composition of Job Titles')\n",
    "plt.show()"
   ]
  },
  {
   "cell_type": "markdown",
   "id": "32aec1b2",
   "metadata": {},
   "source": [
    "## Composition of departments title-wise. Appropriate plots.\n"
   ]
  },
  {
   "cell_type": "code",
   "execution_count": 76,
   "id": "146989d6",
   "metadata": {},
   "outputs": [],
   "source": [
    "sql_query=\"\"\"\n",
    "select count(e.department_id),d.dept_name,t.title\n",
    "from employees.department_employee e\n",
    "join employees.department d\n",
    "on e.department_id=d.id\n",
    "join employees.title t\n",
    "on e.employee_id=t.employee_id\n",
    "group by d.dept_name,t.title\n",
    "order by d.dept_name asc\n",
    "\"\"\""
   ]
  },
  {
   "cell_type": "code",
   "execution_count": 77,
   "id": "7272893d",
   "metadata": {},
   "outputs": [
    {
     "name": "stderr",
     "output_type": "stream",
     "text": [
      "C:\\Users\\Admin\\anaconda3\\lib\\site-packages\\pandas\\io\\sql.py:762: UserWarning: pandas only support SQLAlchemy connectable(engine/connection) ordatabase string URI or sqlite3 DBAPI2 connectionother DBAPI2 objects are not tested, please consider using SQLAlchemy\n",
      "  warnings.warn(\n"
     ]
    }
   ],
   "source": [
    "df6=pd.read_sql_query(sql_query,connection)"
   ]
  },
  {
   "cell_type": "code",
   "execution_count": 78,
   "id": "00ec6169",
   "metadata": {},
   "outputs": [
    {
     "data": {
      "text/html": [
       "<div>\n",
       "<style scoped>\n",
       "    .dataframe tbody tr th:only-of-type {\n",
       "        vertical-align: middle;\n",
       "    }\n",
       "\n",
       "    .dataframe tbody tr th {\n",
       "        vertical-align: top;\n",
       "    }\n",
       "\n",
       "    .dataframe thead th {\n",
       "        text-align: right;\n",
       "    }\n",
       "</style>\n",
       "<table border=\"1\" class=\"dataframe\">\n",
       "  <thead>\n",
       "    <tr style=\"text-align: right;\">\n",
       "      <th></th>\n",
       "      <th>count</th>\n",
       "      <th>dept_name</th>\n",
       "      <th>title</th>\n",
       "    </tr>\n",
       "  </thead>\n",
       "  <tbody>\n",
       "    <tr>\n",
       "      <th>0</th>\n",
       "      <td>298</td>\n",
       "      <td>Customer Service</td>\n",
       "      <td>Assistant Engineer</td>\n",
       "    </tr>\n",
       "    <tr>\n",
       "      <th>1</th>\n",
       "      <td>2362</td>\n",
       "      <td>Customer Service</td>\n",
       "      <td>Engineer</td>\n",
       "    </tr>\n",
       "    <tr>\n",
       "      <th>2</th>\n",
       "      <td>4</td>\n",
       "      <td>Customer Service</td>\n",
       "      <td>Manager</td>\n",
       "    </tr>\n",
       "    <tr>\n",
       "      <th>3</th>\n",
       "      <td>2027</td>\n",
       "      <td>Customer Service</td>\n",
       "      <td>Senior Engineer</td>\n",
       "    </tr>\n",
       "    <tr>\n",
       "      <th>4</th>\n",
       "      <td>13925</td>\n",
       "      <td>Customer Service</td>\n",
       "      <td>Senior Staff</td>\n",
       "    </tr>\n",
       "  </tbody>\n",
       "</table>\n",
       "</div>"
      ],
      "text/plain": [
       "   count         dept_name               title\n",
       "0    298  Customer Service  Assistant Engineer\n",
       "1   2362  Customer Service            Engineer\n",
       "2      4  Customer Service             Manager\n",
       "3   2027  Customer Service     Senior Engineer\n",
       "4  13925  Customer Service        Senior Staff"
      ]
     },
     "execution_count": 78,
     "metadata": {},
     "output_type": "execute_result"
    }
   ],
   "source": [
    "df6.head()"
   ]
  },
  {
   "cell_type": "code",
   "execution_count": 79,
   "id": "5c9580e5",
   "metadata": {},
   "outputs": [
    {
     "data": {
      "text/plain": [
       "Customer Service      7\n",
       "Development           7\n",
       "Production            7\n",
       "Research              7\n",
       "Quality Management    5\n",
       "Finance               3\n",
       "Human Resources       3\n",
       "Marketing             3\n",
       "Sales                 3\n",
       "Name: dept_name, dtype: int64"
      ]
     },
     "execution_count": 79,
     "metadata": {},
     "output_type": "execute_result"
    }
   ],
   "source": [
    "dept_counts = df6['dept_name'].value_counts()\n",
    "dept_counts"
   ]
  },
  {
   "cell_type": "code",
   "execution_count": 80,
   "id": "52212017",
   "metadata": {},
   "outputs": [
    {
     "data": {
      "image/png": "[encoded data removed]",
      "text/plain": [
       "<Figure size 1000x600 with 1 Axes>"
      ]
     },
     "metadata": {},
     "output_type": "display_data"
    }
   ],
   "source": [
    "plt.figure(figsize=(10, 6))\n",
    "plt.pie(dept_counts, labels=dept_counts.index, autopct='%.2f', explode=[0.1] * len(dept_counts))\n",
    "plt.axis('equal')  \n",
    "plt.title('Composition of Job department_wise')\n",
    "plt.show()\n"
   ]
  },
  {
   "cell_type": "markdown",
   "id": "0cee4bde",
   "metadata": {},
   "source": [
    "## Salaries of active department managers. Which department's manager who is active earns the most?\n"
   ]
  },
  {
   "cell_type": "code",
   "execution_count": 81,
   "id": "54ee41ad",
   "metadata": {},
   "outputs": [],
   "source": [
    "sql_query=\"\"\"\n",
    "select d.dept_name,max(s.amount) as max_salary\n",
    "from employees.department d\n",
    "left join employees.department_manager dm\n",
    "on d.id=dm.department_id\n",
    "left join employees.salary s\n",
    "on dm.employee_id=s.employee_id\n",
    "where dm.to_date='9999-01-01' \n",
    "group by d.dept_name\n",
    "order by max_salary desc\n",
    "\n",
    "\n",
    "\n",
    "\"\"\""
   ]
  },
  {
   "cell_type": "code",
   "execution_count": 82,
   "id": "5420436b",
   "metadata": {},
   "outputs": [
    {
     "name": "stderr",
     "output_type": "stream",
     "text": [
      "C:\\Users\\Admin\\anaconda3\\lib\\site-packages\\pandas\\io\\sql.py:762: UserWarning: pandas only support SQLAlchemy connectable(engine/connection) ordatabase string URI or sqlite3 DBAPI2 connectionother DBAPI2 objects are not tested, please consider using SQLAlchemy\n",
      "  warnings.warn(\n"
     ]
    }
   ],
   "source": [
    "df7=pd.read_sql_query(sql_query,connection)"
   ]
  },
  {
   "cell_type": "code",
   "execution_count": 83,
   "id": "bfc6787c",
   "metadata": {},
   "outputs": [
    {
     "data": {
      "text/html": [
       "<div>\n",
       "<style scoped>\n",
       "    .dataframe tbody tr th:only-of-type {\n",
       "        vertical-align: middle;\n",
       "    }\n",
       "\n",
       "    .dataframe tbody tr th {\n",
       "        vertical-align: top;\n",
       "    }\n",
       "\n",
       "    .dataframe thead th {\n",
       "        text-align: right;\n",
       "    }\n",
       "</style>\n",
       "<table border=\"1\" class=\"dataframe\">\n",
       "  <thead>\n",
       "    <tr style=\"text-align: right;\">\n",
       "      <th></th>\n",
       "      <th>dept_name</th>\n",
       "      <th>max_salary</th>\n",
       "    </tr>\n",
       "  </thead>\n",
       "  <tbody>\n",
       "    <tr>\n",
       "      <th>0</th>\n",
       "      <td>Marketing</td>\n",
       "      <td>106491</td>\n",
       "    </tr>\n",
       "    <tr>\n",
       "      <th>1</th>\n",
       "      <td>Sales</td>\n",
       "      <td>101987</td>\n",
       "    </tr>\n",
       "    <tr>\n",
       "      <th>2</th>\n",
       "      <td>Finance</td>\n",
       "      <td>83457</td>\n",
       "    </tr>\n",
       "    <tr>\n",
       "      <th>3</th>\n",
       "      <td>Research</td>\n",
       "      <td>79393</td>\n",
       "    </tr>\n",
       "    <tr>\n",
       "      <th>4</th>\n",
       "      <td>Development</td>\n",
       "      <td>74510</td>\n",
       "    </tr>\n",
       "  </tbody>\n",
       "</table>\n",
       "</div>"
      ],
      "text/plain": [
       "     dept_name  max_salary\n",
       "0    Marketing      106491\n",
       "1        Sales      101987\n",
       "2      Finance       83457\n",
       "3     Research       79393\n",
       "4  Development       74510"
      ]
     },
     "execution_count": 83,
     "metadata": {},
     "output_type": "execute_result"
    }
   ],
   "source": [
    "df7.head()"
   ]
  },
  {
   "cell_type": "code",
   "execution_count": 84,
   "id": "a92ed7ac",
   "metadata": {},
   "outputs": [
    {
     "data": {
      "image/png": "[encoded data removed]",
      "text/plain": [
       "<Figure size 640x480 with 1 Axes>"
      ]
     },
     "metadata": {},
     "output_type": "display_data"
    }
   ],
   "source": [
    "sns.barplot(x='dept_name', y='max_salary', data=df7,ci=None,palette='plasma')\n",
    "plt.xlabel('Department Name', fontsize=10)  \n",
    "plt.ylabel('Amount', fontsize=10)           \n",
    "plt.title('Salary of Active Department Managers') \n",
    "plt.xticks(rotation=45, fontsize=10)        \n",
    "plt.tight_layout()  \n",
    "plt.show()          \n"
   ]
  },
  {
   "cell_type": "markdown",
   "id": "a610a50c",
   "metadata": {},
   "source": [
    "##  What are the titles of active department managers? Are they managers only?"
   ]
  },
  {
   "cell_type": "code",
   "execution_count": 85,
   "id": "3ecd8685",
   "metadata": {},
   "outputs": [],
   "source": [
    "sql_query=\"\"\"\n",
    "\n",
    "select dm.department_id,t.title\n",
    "from employees.department_manager dm\n",
    "left join employees.title t\n",
    "on dm.employee_id=t.employee_id\n",
    "where dm.to_date='9999-01-01' and t.title='Manager' \n",
    "\n",
    "\n",
    "\n",
    "\n",
    "\"\"\""
   ]
  },
  {
   "cell_type": "code",
   "execution_count": 86,
   "id": "ee928877",
   "metadata": {},
   "outputs": [
    {
     "name": "stderr",
     "output_type": "stream",
     "text": [
      "C:\\Users\\Admin\\anaconda3\\lib\\site-packages\\pandas\\io\\sql.py:762: UserWarning: pandas only support SQLAlchemy connectable(engine/connection) ordatabase string URI or sqlite3 DBAPI2 connectionother DBAPI2 objects are not tested, please consider using SQLAlchemy\n",
      "  warnings.warn(\n"
     ]
    }
   ],
   "source": [
    "df8=pd.read_sql_query(sql_query,connection)"
   ]
  },
  {
   "cell_type": "code",
   "execution_count": 87,
   "id": "c6e60eb5",
   "metadata": {},
   "outputs": [
    {
     "data": {
      "text/html": [
       "<div>\n",
       "<style scoped>\n",
       "    .dataframe tbody tr th:only-of-type {\n",
       "        vertical-align: middle;\n",
       "    }\n",
       "\n",
       "    .dataframe tbody tr th {\n",
       "        vertical-align: top;\n",
       "    }\n",
       "\n",
       "    .dataframe thead th {\n",
       "        text-align: right;\n",
       "    }\n",
       "</style>\n",
       "<table border=\"1\" class=\"dataframe\">\n",
       "  <thead>\n",
       "    <tr style=\"text-align: right;\">\n",
       "      <th></th>\n",
       "      <th>department_id</th>\n",
       "      <th>title</th>\n",
       "    </tr>\n",
       "  </thead>\n",
       "  <tbody>\n",
       "    <tr>\n",
       "      <th>0</th>\n",
       "      <td>d001</td>\n",
       "      <td>Manager</td>\n",
       "    </tr>\n",
       "    <tr>\n",
       "      <th>1</th>\n",
       "      <td>d002</td>\n",
       "      <td>Manager</td>\n",
       "    </tr>\n",
       "    <tr>\n",
       "      <th>2</th>\n",
       "      <td>d003</td>\n",
       "      <td>Manager</td>\n",
       "    </tr>\n",
       "    <tr>\n",
       "      <th>3</th>\n",
       "      <td>d004</td>\n",
       "      <td>Manager</td>\n",
       "    </tr>\n",
       "    <tr>\n",
       "      <th>4</th>\n",
       "      <td>d005</td>\n",
       "      <td>Manager</td>\n",
       "    </tr>\n",
       "  </tbody>\n",
       "</table>\n",
       "</div>"
      ],
      "text/plain": [
       "  department_id    title\n",
       "0          d001  Manager\n",
       "1          d002  Manager\n",
       "2          d003  Manager\n",
       "3          d004  Manager\n",
       "4          d005  Manager"
      ]
     },
     "execution_count": 87,
     "metadata": {},
     "output_type": "execute_result"
    }
   ],
   "source": [
    "df8.head()"
   ]
  },
  {
   "cell_type": "markdown",
   "id": "0801a01e",
   "metadata": {},
   "source": [
    "##  Past history of salaries of managers across department (yearly)\n"
   ]
  },
  {
   "cell_type": "code",
   "execution_count": 88,
   "id": "b4c9e0c8",
   "metadata": {},
   "outputs": [],
   "source": [
    "sql_query=\"\"\"\n",
    "select e.employee_id, d.dept_name, EXTRACT(YEAR FROM s.from_date) AS year, s.amount\n",
    "from employees.department_employee e\n",
    "join employees.salary s\n",
    "on e.employee_id = s.employee_id\n",
    "join employees.department d \n",
    "on e.department_id = d.id\n",
    "join employees.title t\n",
    "on e.employee_id = t.employee_id\n",
    "where t.title = 'Manager'\n",
    "and s.to_date = '9999-01-01'\n",
    "order by e.employee_id, d.dept_name, year;\n",
    "\n",
    "\n",
    "\"\"\""
   ]
  },
  {
   "cell_type": "code",
   "execution_count": 89,
   "id": "b709b1b9",
   "metadata": {},
   "outputs": [
    {
     "name": "stderr",
     "output_type": "stream",
     "text": [
      "C:\\Users\\Admin\\anaconda3\\lib\\site-packages\\pandas\\io\\sql.py:762: UserWarning: pandas only support SQLAlchemy connectable(engine/connection) ordatabase string URI or sqlite3 DBAPI2 connectionother DBAPI2 objects are not tested, please consider using SQLAlchemy\n",
      "  warnings.warn(\n"
     ]
    }
   ],
   "source": [
    "df9=pd.read_sql_query(sql_query,connection)"
   ]
  },
  {
   "cell_type": "code",
   "execution_count": 90,
   "id": "d3078b7e",
   "metadata": {},
   "outputs": [
    {
     "data": {
      "text/html": [
       "<div>\n",
       "<style scoped>\n",
       "    .dataframe tbody tr th:only-of-type {\n",
       "        vertical-align: middle;\n",
       "    }\n",
       "\n",
       "    .dataframe tbody tr th {\n",
       "        vertical-align: top;\n",
       "    }\n",
       "\n",
       "    .dataframe thead th {\n",
       "        text-align: right;\n",
       "    }\n",
       "</style>\n",
       "<table border=\"1\" class=\"dataframe\">\n",
       "  <thead>\n",
       "    <tr style=\"text-align: right;\">\n",
       "      <th></th>\n",
       "      <th>employee_id</th>\n",
       "      <th>dept_name</th>\n",
       "      <th>year</th>\n",
       "      <th>amount</th>\n",
       "    </tr>\n",
       "  </thead>\n",
       "  <tbody>\n",
       "    <tr>\n",
       "      <th>0</th>\n",
       "      <td>110022</td>\n",
       "      <td>Marketing</td>\n",
       "      <td>2001.0</td>\n",
       "      <td>108407</td>\n",
       "    </tr>\n",
       "    <tr>\n",
       "      <th>1</th>\n",
       "      <td>110039</td>\n",
       "      <td>Marketing</td>\n",
       "      <td>2002.0</td>\n",
       "      <td>106491</td>\n",
       "    </tr>\n",
       "    <tr>\n",
       "      <th>2</th>\n",
       "      <td>110085</td>\n",
       "      <td>Finance</td>\n",
       "      <td>2001.0</td>\n",
       "      <td>88443</td>\n",
       "    </tr>\n",
       "    <tr>\n",
       "      <th>3</th>\n",
       "      <td>110114</td>\n",
       "      <td>Finance</td>\n",
       "      <td>2002.0</td>\n",
       "      <td>83457</td>\n",
       "    </tr>\n",
       "    <tr>\n",
       "      <th>4</th>\n",
       "      <td>110183</td>\n",
       "      <td>Human Resources</td>\n",
       "      <td>2001.0</td>\n",
       "      <td>79229</td>\n",
       "    </tr>\n",
       "  </tbody>\n",
       "</table>\n",
       "</div>"
      ],
      "text/plain": [
       "   employee_id        dept_name    year  amount\n",
       "0       110022        Marketing  2001.0  108407\n",
       "1       110039        Marketing  2002.0  106491\n",
       "2       110085          Finance  2001.0   88443\n",
       "3       110114          Finance  2002.0   83457\n",
       "4       110183  Human Resources  2001.0   79229"
      ]
     },
     "execution_count": 90,
     "metadata": {},
     "output_type": "execute_result"
    }
   ],
   "source": [
    "df9.head()"
   ]
  },
  {
   "cell_type": "code",
   "execution_count": 91,
   "id": "85708016",
   "metadata": {},
   "outputs": [
    {
     "data": {
      "image/png": "[encoded data removed]",
      "text/plain": [
       "<Figure size 640x480 with 1 Axes>"
      ]
     },
     "metadata": {},
     "output_type": "display_data"
    }
   ],
   "source": [
    "sns.barplot(x='dept_name', y='year', data=df9,ci=None,palette='cividis')\n",
    "plt.xlabel('Department Name', fontsize=10)  \n",
    "plt.ylabel('Year', fontsize=10)             \n",
    "plt.title('Salary of Managers Across Departments')  \n",
    "plt.xticks(rotation=45, fontsize=10)        \n",
    "plt.tight_layout()  \n",
    "plt.show()          "
   ]
  },
  {
   "cell_type": "markdown",
   "id": "0adb3c2e",
   "metadata": {},
   "source": [
    "## 12. Distribution of salaries of active employees working for more than 10 years vs 4 years vs 1 year."
   ]
  },
  {
   "cell_type": "code",
   "execution_count": 92,
   "id": "c0f1f394",
   "metadata": {},
   "outputs": [],
   "source": [
    "sql_query=\"\"\"\n",
    "Select\n",
    "    case\n",
    "        when date_part('year', s.from_date) > 10 then 'More than 10 years'\n",
    "        when date_part('year',s.from_date) = 4 then'4 years'\n",
    "        when date_part('year', s.from_date) = 1 then '1 year'\n",
    "        else 'Other'\n",
    "    end as years_of_experience,\n",
    "    count(de.employee_id) as employee_count,s.amount\n",
    "from\n",
    "employees.department_employee de\n",
    "join employees.salary s\n",
    "on de.employee_id=s.employee_id\n",
    "where de.to_date ='9999-01-01'\n",
    "group by years_of_experience,s.amount\n",
    "order by years_of_experience;\n",
    "\n",
    "\"\"\""
   ]
  },
  {
   "cell_type": "code",
   "execution_count": 93,
   "id": "2d9d55ab",
   "metadata": {},
   "outputs": [
    {
     "name": "stderr",
     "output_type": "stream",
     "text": [
      "C:\\Users\\Admin\\anaconda3\\lib\\site-packages\\pandas\\io\\sql.py:762: UserWarning: pandas only support SQLAlchemy connectable(engine/connection) ordatabase string URI or sqlite3 DBAPI2 connectionother DBAPI2 objects are not tested, please consider using SQLAlchemy\n",
      "  warnings.warn(\n"
     ]
    }
   ],
   "source": [
    "df10=pd.read_sql_query(sql_query,connection)"
   ]
  },
  {
   "cell_type": "code",
   "execution_count": 94,
   "id": "74c6bdf7",
   "metadata": {},
   "outputs": [
    {
     "data": {
      "text/html": [
       "<div>\n",
       "<style scoped>\n",
       "    .dataframe tbody tr th:only-of-type {\n",
       "        vertical-align: middle;\n",
       "    }\n",
       "\n",
       "    .dataframe tbody tr th {\n",
       "        vertical-align: top;\n",
       "    }\n",
       "\n",
       "    .dataframe thead th {\n",
       "        text-align: right;\n",
       "    }\n",
       "</style>\n",
       "<table border=\"1\" class=\"dataframe\">\n",
       "  <thead>\n",
       "    <tr style=\"text-align: right;\">\n",
       "      <th></th>\n",
       "      <th>years_of_experience</th>\n",
       "      <th>employee_count</th>\n",
       "      <th>amount</th>\n",
       "    </tr>\n",
       "  </thead>\n",
       "  <tbody>\n",
       "    <tr>\n",
       "      <th>0</th>\n",
       "      <td>More than 10 years</td>\n",
       "      <td>1</td>\n",
       "      <td>38735</td>\n",
       "    </tr>\n",
       "    <tr>\n",
       "      <th>1</th>\n",
       "      <td>More than 10 years</td>\n",
       "      <td>1</td>\n",
       "      <td>38812</td>\n",
       "    </tr>\n",
       "    <tr>\n",
       "      <th>2</th>\n",
       "      <td>More than 10 years</td>\n",
       "      <td>1</td>\n",
       "      <td>38836</td>\n",
       "    </tr>\n",
       "    <tr>\n",
       "      <th>3</th>\n",
       "      <td>More than 10 years</td>\n",
       "      <td>1</td>\n",
       "      <td>38850</td>\n",
       "    </tr>\n",
       "    <tr>\n",
       "      <th>4</th>\n",
       "      <td>More than 10 years</td>\n",
       "      <td>1</td>\n",
       "      <td>38859</td>\n",
       "    </tr>\n",
       "  </tbody>\n",
       "</table>\n",
       "</div>"
      ],
      "text/plain": [
       "  years_of_experience  employee_count  amount\n",
       "0  More than 10 years               1   38735\n",
       "1  More than 10 years               1   38812\n",
       "2  More than 10 years               1   38836\n",
       "3  More than 10 years               1   38850\n",
       "4  More than 10 years               1   38859"
      ]
     },
     "execution_count": 94,
     "metadata": {},
     "output_type": "execute_result"
    }
   ],
   "source": [
    "df10.head()"
   ]
  },
  {
   "cell_type": "markdown",
   "id": "5307fbc8",
   "metadata": {},
   "source": [
    "## 13. Average number of years employees work in the company before leaving (title wise)."
   ]
  },
  {
   "cell_type": "code",
   "execution_count": 95,
   "id": "5bd596e6",
   "metadata": {},
   "outputs": [],
   "source": [
    "sql_query=\"\"\"\n",
    "select count(de.employee_id) as emp_id,t.title,\n",
    "avg((date_part('year',de.to_date))-(date_part('year',de.from_date))) as avg_year\n",
    "from employees.department_employee de\n",
    "left join employees.title t\n",
    "on de.employee_id=t.employee_id\n",
    "where de.to_date !='9999-01-01'\n",
    "group by t.title\n",
    "order by avg_year desc\n",
    "\"\"\""
   ]
  },
  {
   "cell_type": "code",
   "execution_count": 96,
   "id": "51bb622c",
   "metadata": {},
   "outputs": [
    {
     "name": "stderr",
     "output_type": "stream",
     "text": [
      "C:\\Users\\Admin\\anaconda3\\lib\\site-packages\\pandas\\io\\sql.py:762: UserWarning: pandas only support SQLAlchemy connectable(engine/connection) ordatabase string URI or sqlite3 DBAPI2 connectionother DBAPI2 objects are not tested, please consider using SQLAlchemy\n",
      "  warnings.warn(\n"
     ]
    }
   ],
   "source": [
    "df11=pd.read_sql_query(sql_query,connection)"
   ]
  },
  {
   "cell_type": "code",
   "execution_count": 97,
   "id": "f2febfd5",
   "metadata": {},
   "outputs": [
    {
     "data": {
      "text/html": [
       "<div>\n",
       "<style scoped>\n",
       "    .dataframe tbody tr th:only-of-type {\n",
       "        vertical-align: middle;\n",
       "    }\n",
       "\n",
       "    .dataframe tbody tr th {\n",
       "        vertical-align: top;\n",
       "    }\n",
       "\n",
       "    .dataframe thead th {\n",
       "        text-align: right;\n",
       "    }\n",
       "</style>\n",
       "<table border=\"1\" class=\"dataframe\">\n",
       "  <thead>\n",
       "    <tr style=\"text-align: right;\">\n",
       "      <th></th>\n",
       "      <th>emp_id</th>\n",
       "      <th>title</th>\n",
       "      <th>avg_year</th>\n",
       "    </tr>\n",
       "  </thead>\n",
       "  <tbody>\n",
       "    <tr>\n",
       "      <th>0</th>\n",
       "      <td>20592</td>\n",
       "      <td>Senior Staff</td>\n",
       "      <td>6.322698</td>\n",
       "    </tr>\n",
       "    <tr>\n",
       "      <th>1</th>\n",
       "      <td>22050</td>\n",
       "      <td>Senior Engineer</td>\n",
       "      <td>6.277052</td>\n",
       "    </tr>\n",
       "    <tr>\n",
       "      <th>2</th>\n",
       "      <td>34048</td>\n",
       "      <td>Engineer</td>\n",
       "      <td>4.674548</td>\n",
       "    </tr>\n",
       "    <tr>\n",
       "      <th>3</th>\n",
       "      <td>4678</td>\n",
       "      <td>Technique Leader</td>\n",
       "      <td>4.551090</td>\n",
       "    </tr>\n",
       "    <tr>\n",
       "      <th>4</th>\n",
       "      <td>32628</td>\n",
       "      <td>Staff</td>\n",
       "      <td>4.504812</td>\n",
       "    </tr>\n",
       "  </tbody>\n",
       "</table>\n",
       "</div>"
      ],
      "text/plain": [
       "   emp_id             title  avg_year\n",
       "0   20592      Senior Staff  6.322698\n",
       "1   22050   Senior Engineer  6.277052\n",
       "2   34048          Engineer  4.674548\n",
       "3    4678  Technique Leader  4.551090\n",
       "4   32628             Staff  4.504812"
      ]
     },
     "execution_count": 97,
     "metadata": {},
     "output_type": "execute_result"
    }
   ],
   "source": [
    "df11.head()"
   ]
  },
  {
   "cell_type": "code",
   "execution_count": 98,
   "id": "0459dfe0",
   "metadata": {},
   "outputs": [
    {
     "data": {
      "image/png": "[encoded data removed]",
      "text/plain": [
       "<Figure size 640x480 with 1 Axes>"
      ]
     },
     "metadata": {},
     "output_type": "display_data"
    }
   ],
   "source": [
    "sns.barplot(x='title', y='avg_year', data=df11,ci=None,palette='viridis')\n",
    "plt.xlabel('Title', fontsize=10)          \n",
    "plt.ylabel('Average Years', fontsize=10)  \n",
    "plt.title('Average Number of Years by Title')  \n",
    "plt.xticks(rotation=45, fontsize=10)     \n",
    "plt.tight_layout()  \n",
    "plt.show()          "
   ]
  },
  {
   "cell_type": "markdown",
   "id": "27763744",
   "metadata": {},
   "source": [
    "##  Average number of years employees work in the company before leaving (Dept wise).\n"
   ]
  },
  {
   "cell_type": "code",
   "execution_count": 99,
   "id": "1ad11b97",
   "metadata": {},
   "outputs": [],
   "source": [
    "sql_query=\"\"\"\n",
    "select count(de.employee_id) as emp_id,d.dept_name,\n",
    "avg((date_part('year',de.to_date))-(date_part('year',de.from_date))) as avg_year\n",
    "from employees.department d\n",
    "join employees.department_employee de on d.id=de.department_id\n",
    "where de.to_date!= '9999-01-01'\n",
    "group by d.dept_name\n",
    "order by avg_year desc\n",
    "\"\"\""
   ]
  },
  {
   "cell_type": "code",
   "execution_count": 100,
   "id": "8f6e6175",
   "metadata": {},
   "outputs": [
    {
     "name": "stderr",
     "output_type": "stream",
     "text": [
      "C:\\Users\\Admin\\anaconda3\\lib\\site-packages\\pandas\\io\\sql.py:762: UserWarning: pandas only support SQLAlchemy connectable(engine/connection) ordatabase string URI or sqlite3 DBAPI2 connectionother DBAPI2 objects are not tested, please consider using SQLAlchemy\n",
      "  warnings.warn(\n"
     ]
    }
   ],
   "source": [
    "df12=pd.read_sql_query(sql_query,connection)"
   ]
  },
  {
   "cell_type": "code",
   "execution_count": 101,
   "id": "4cc0e89f",
   "metadata": {},
   "outputs": [
    {
     "data": {
      "text/html": [
       "<div>\n",
       "<style scoped>\n",
       "    .dataframe tbody tr th:only-of-type {\n",
       "        vertical-align: middle;\n",
       "    }\n",
       "\n",
       "    .dataframe tbody tr th {\n",
       "        vertical-align: top;\n",
       "    }\n",
       "\n",
       "    .dataframe thead th {\n",
       "        text-align: right;\n",
       "    }\n",
       "</style>\n",
       "<table border=\"1\" class=\"dataframe\">\n",
       "  <thead>\n",
       "    <tr style=\"text-align: right;\">\n",
       "      <th></th>\n",
       "      <th>emp_id</th>\n",
       "      <th>dept_name</th>\n",
       "      <th>avg_year</th>\n",
       "    </tr>\n",
       "  </thead>\n",
       "  <tbody>\n",
       "    <tr>\n",
       "      <th>0</th>\n",
       "      <td>4909</td>\n",
       "      <td>Finance</td>\n",
       "      <td>4.652882</td>\n",
       "    </tr>\n",
       "    <tr>\n",
       "      <th>1</th>\n",
       "      <td>24321</td>\n",
       "      <td>Development</td>\n",
       "      <td>4.641462</td>\n",
       "    </tr>\n",
       "    <tr>\n",
       "      <th>2</th>\n",
       "      <td>4888</td>\n",
       "      <td>Human Resources</td>\n",
       "      <td>4.611293</td>\n",
       "    </tr>\n",
       "    <tr>\n",
       "      <th>3</th>\n",
       "      <td>14544</td>\n",
       "      <td>Sales</td>\n",
       "      <td>4.611111</td>\n",
       "    </tr>\n",
       "    <tr>\n",
       "      <th>4</th>\n",
       "      <td>20181</td>\n",
       "      <td>Production</td>\n",
       "      <td>4.511917</td>\n",
       "    </tr>\n",
       "  </tbody>\n",
       "</table>\n",
       "</div>"
      ],
      "text/plain": [
       "   emp_id        dept_name  avg_year\n",
       "0    4909          Finance  4.652882\n",
       "1   24321      Development  4.641462\n",
       "2    4888  Human Resources  4.611293\n",
       "3   14544            Sales  4.611111\n",
       "4   20181       Production  4.511917"
      ]
     },
     "execution_count": 101,
     "metadata": {},
     "output_type": "execute_result"
    }
   ],
   "source": [
    "df12.head()"
   ]
  },
  {
   "cell_type": "code",
   "execution_count": 102,
   "id": "438f2fff",
   "metadata": {},
   "outputs": [
    {
     "data": {
      "image/png": "[encoded data removed]",
      "text/plain": [
       "<Figure size 1000x600 with 1 Axes>"
      ]
     },
     "metadata": {},
     "output_type": "display_data"
    }
   ],
   "source": [
    "plt.figure(figsize=(10, 6))\n",
    "sns.barplot(x='avg_year', y='dept_name', data=df12,ci=None,palette='magma')\n",
    "plt.xlabel('Average Years in Department')  \n",
    "plt.ylabel('Department')                   \n",
    "plt.title('Average Years in Department by Department') \n",
    "plt.show() "
   ]
  },
  {
   "cell_type": "markdown",
   "id": "5c405f7a",
   "metadata": {},
   "source": [
    "## 15. Median annual salary increment department wise."
   ]
  },
  {
   "cell_type": "code",
   "execution_count": 103,
   "id": "954a7dc5",
   "metadata": {},
   "outputs": [],
   "source": [
    "sql_query=\"\"\"\n",
    "\n",
    "WITH MedianSalaryIncrements AS (\n",
    "select d.dept_name,PERCENTILE_CONT(0.5) WITHIN GROUP (ORDER BY s.amount) AS median_increment\n",
    "From employees.department as d\n",
    "join employees.department_employee as de\n",
    "on d.id=department_id\n",
    "join employees.salary as s\n",
    "on de.employee_id=s.employee_id\n",
    "group by dept_name\n",
    ")\n",
    "select dept_name,median_increment\n",
    "from MedianSalaryIncrements;\n",
    "\n",
    "\n",
    "\n",
    "\"\"\""
   ]
  },
  {
   "cell_type": "code",
   "execution_count": 104,
   "id": "7aab5ed7",
   "metadata": {},
   "outputs": [
    {
     "name": "stderr",
     "output_type": "stream",
     "text": [
      "C:\\Users\\Admin\\anaconda3\\lib\\site-packages\\pandas\\io\\sql.py:762: UserWarning: pandas only support SQLAlchemy connectable(engine/connection) ordatabase string URI or sqlite3 DBAPI2 connectionother DBAPI2 objects are not tested, please consider using SQLAlchemy\n",
      "  warnings.warn(\n"
     ]
    }
   ],
   "source": [
    "df13=pd.read_sql_query(sql_query,connection)"
   ]
  },
  {
   "cell_type": "code",
   "execution_count": 105,
   "id": "d444205d",
   "metadata": {},
   "outputs": [
    {
     "data": {
      "text/html": [
       "<div>\n",
       "<style scoped>\n",
       "    .dataframe tbody tr th:only-of-type {\n",
       "        vertical-align: middle;\n",
       "    }\n",
       "\n",
       "    .dataframe tbody tr th {\n",
       "        vertical-align: top;\n",
       "    }\n",
       "\n",
       "    .dataframe thead th {\n",
       "        text-align: right;\n",
       "    }\n",
       "</style>\n",
       "<table border=\"1\" class=\"dataframe\">\n",
       "  <thead>\n",
       "    <tr style=\"text-align: right;\">\n",
       "      <th></th>\n",
       "      <th>dept_name</th>\n",
       "      <th>median_increment</th>\n",
       "    </tr>\n",
       "  </thead>\n",
       "  <tbody>\n",
       "    <tr>\n",
       "      <th>0</th>\n",
       "      <td>Customer Service</td>\n",
       "      <td>55608.0</td>\n",
       "    </tr>\n",
       "    <tr>\n",
       "      <th>1</th>\n",
       "      <td>Development</td>\n",
       "      <td>57522.0</td>\n",
       "    </tr>\n",
       "    <tr>\n",
       "      <th>2</th>\n",
       "      <td>Finance</td>\n",
       "      <td>69338.0</td>\n",
       "    </tr>\n",
       "    <tr>\n",
       "      <th>3</th>\n",
       "      <td>Human Resources</td>\n",
       "      <td>53250.0</td>\n",
       "    </tr>\n",
       "    <tr>\n",
       "      <th>4</th>\n",
       "      <td>Marketing</td>\n",
       "      <td>70911.0</td>\n",
       "    </tr>\n",
       "  </tbody>\n",
       "</table>\n",
       "</div>"
      ],
      "text/plain": [
       "          dept_name  median_increment\n",
       "0  Customer Service           55608.0\n",
       "1       Development           57522.0\n",
       "2           Finance           69338.0\n",
       "3   Human Resources           53250.0\n",
       "4         Marketing           70911.0"
      ]
     },
     "execution_count": 105,
     "metadata": {},
     "output_type": "execute_result"
    }
   ],
   "source": [
    "df13.head()"
   ]
  },
  {
   "cell_type": "code",
   "execution_count": 106,
   "id": "369edf20",
   "metadata": {},
   "outputs": [
    {
     "data": {
      "image/png": "[encoded data removed]",
      "text/plain": [
       "<Figure size 1000x600 with 1 Axes>"
      ]
     },
     "metadata": {},
     "output_type": "display_data"
    }
   ],
   "source": [
    "plt.figure(figsize=(10, 6))\n",
    "sns.barplot(x='dept_name', y='median_increment', data=df13,ci=None,palette='inferno')\n",
    "plt.xlabel('Department')                   \n",
    "plt.ylabel('Median Salary Increment')     \n",
    "plt.title('Median Salary Increment by Department')  \n",
    "plt.xticks(rotation=45)                   \n",
    "plt.tight_layout()  \n",
    "plt.show()          \n"
   ]
  }
 ],
 "metadata": {
  "kernelspec": {
   "display_name": "Python 3 (ipykernel)",
   "language": "python",
   "name": "python3"
  },
  "language_info": {
   "codemirror_mode": {
    "name": "ipython",
    "version": 3
   },
   "file_extension": ".py",
   "mimetype": "text/x-python",
   "name": "python",
   "nbconvert_exporter": "python",
   "pygments_lexer": "ipython3",
   "version": "3.9.13"
  }
 },
 "nbformat": 4,
 "nbformat_minor": 5
}
